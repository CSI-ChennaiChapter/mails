{
 "cells": [
  {
   "cell_type": "markdown",
   "id": "31caf9d6",
   "metadata": {},
   "source": [
    "### Create a doc file using python"
   ]
  },
  {
   "cell_type": "markdown",
   "id": "40eee8ab",
   "metadata": {},
   "source": [
    "! pip install python-docx"
   ]
  },
  {
   "cell_type": "code",
   "execution_count": 1,
   "id": "7ad194d5",
   "metadata": {},
   "outputs": [
    {
     "name": "stdout",
     "output_type": "stream",
     "text": [
      "(178, 7)\n",
      "                                                                0  \\\n",
      "MemberCode                                             2010000599   \n",
      "FullName                                  Mr. sakthivel marimuthu   \n",
      "emailAddress                                 sakthi.gri@gmail.com   \n",
      "ContactDetails                                       9444695994.0   \n",
      "Address         First Floor Forest Quarters Forest Quarters,Ma...   \n",
      "CityName                                     thiruvallur district   \n",
      "PinCode                                                    601103   \n",
      "\n",
      "                                                               1  \\\n",
      "MemberCode                                            2010000898   \n",
      "FullName                                 Dr. Pradeep Kumar Sahoo   \n",
      "emailAddress                            hipradeepsahoo@yahoo.com   \n",
      "ContactDetails                                      9840458415.0   \n",
      "Address         No 12/4 Sakthiasumriya Flat20th Street T G Nagar   \n",
      "CityName                                              Nanganllur   \n",
      "PinCode                                                   600064   \n",
      "\n",
      "                                                                2  \\\n",
      "MemberCode                                               I0000077   \n",
      "FullName                            Krishnamurthy K Krishnamurthy   \n",
      "emailAddress                                    krishkal@ieee.org   \n",
      "ContactDetails                                       9444407203.0   \n",
      "Address         1 A, Rainbow Praveen Apartments, 44, Naickamar...   \n",
      "CityName                                                  Chennai   \n",
      "PinCode                                                    600033   \n",
      "\n",
      "                                                                3  \\\n",
      "MemberCode                                               I0000786   \n",
      "FullName                                      Sundaram N Sundaram   \n",
      "emailAddress                               stejasvi@satyam.net.in   \n",
      "ContactDetails                                                0.0   \n",
      "Address         Old No. 6, New No.11, 6th Cross Street, Shenoy...   \n",
      "CityName                                                  Chennai   \n",
      "PinCode                                                    600030   \n",
      "\n",
      "                                                                4  \n",
      "MemberCode                                               I0000922  \n",
      "FullName                                  Chandramouli  Ponnusami  \n",
      "emailAddress                              chandramouli24@vsnl.com  \n",
      "ContactDetails                                       9444036402.0  \n",
      "Address         Flat No. 1, Ashok Vishnu, 22 Ram Colony,  West...  \n",
      "CityName                                                  Chennai  \n",
      "PinCode                                                    600033  \n"
     ]
    }
   ],
   "source": [
    "import  pandas     as     pd\n",
    "import  datetime\n",
    "from    datetime   import datetime\n",
    "import  docx, os\n",
    "from    docx.shared import Length\n",
    "from    docx.shared import Inches\n",
    "\n",
    "file1  =  'D:/CSI/Members/error/Bounced-CSI-member-email IDs-2022_06_13_19_33_49.csv'\n",
    "\n",
    "df1    =   pd.read_csv(file1)\n",
    "print(df1.shape)\n",
    "print(df1.head().T)"
   ]
  },
  {
   "cell_type": "code",
   "execution_count": 2,
   "id": "46cbc77c",
   "metadata": {},
   "outputs": [
    {
     "data": {
      "text/plain": [
       "Index(['MemberCode', 'FullName', 'emailAddress', 'ContactDetails', 'Address',\n",
       "       'CityName', 'PinCode'],\n",
       "      dtype='object')"
      ]
     },
     "execution_count": 2,
     "metadata": {},
     "output_type": "execute_result"
    }
   ],
   "source": [
    "df1.columns"
   ]
  },
  {
   "cell_type": "code",
   "execution_count": 3,
   "id": "4566fe69",
   "metadata": {},
   "outputs": [],
   "source": [
    "Col1_fixed =  ['CSI Member Id', 'Name', 'Email Id', 'Phone', 'Address', 'City', 'Pincode']"
   ]
  },
  {
   "cell_type": "code",
   "execution_count": 4,
   "id": "c077ca7d",
   "metadata": {},
   "outputs": [],
   "source": [
    "Colnamesu  =  ['MemberCode', 'FullName', 'emailAddress', 'ContactDetails', 'Address','CityName', 'PinCode']"
   ]
  },
  {
   "cell_type": "code",
   "execution_count": 5,
   "id": "a35a5bae",
   "metadata": {},
   "outputs": [
    {
     "data": {
      "text/plain": [
       "(178, 7)"
      ]
     },
     "execution_count": 5,
     "metadata": {},
     "output_type": "execute_result"
    }
   ],
   "source": [
    "df2        =  df1.loc[:, Colnamesu]\n",
    "df2.shape"
   ]
  },
  {
   "cell_type": "code",
   "execution_count": 6,
   "id": "77fb16af",
   "metadata": {},
   "outputs": [
    {
     "name": "stdout",
     "output_type": "stream",
     "text": [
      "(178, 7)\n"
     ]
    }
   ],
   "source": [
    "data_df   =  pd.DataFrame()\n",
    "\n",
    "for j in range(df2.shape[0]):\n",
    "        df2_df = pd.DataFrame({'SNo' : j, 'CSI Member Id': df2.loc[j, 'MemberCode'],\\\n",
    "                     'Name' : df2.loc[j, 'FullName'],\\\n",
    "                     'Email Id' : df2.loc[j, 'emailAddress'],\\\n",
    "                     'Phone' : df2.loc[j, 'ContactDetails'],\\\n",
    "                     'Address' : df2.loc[j, 'Address'],\\\n",
    "                     'City' : df2.loc[j, 'CityName'],\\\n",
    "                     'Pincode' : df2.loc[j, 'PinCode']} , index = [0])\n",
    "        data_df   =    data_df.append(df2_df)\n",
    "                          \n",
    "###\n",
    "data_df  =  data_df.set_index('SNo')\n",
    "print(data_df.shape)"
   ]
  },
  {
   "cell_type": "code",
   "execution_count": 7,
   "id": "75254720",
   "metadata": {},
   "outputs": [],
   "source": [
    "size  = data_df.shape[0]"
   ]
  },
  {
   "cell_type": "code",
   "execution_count": 8,
   "id": "6cacf510",
   "metadata": {},
   "outputs": [
    {
     "data": {
      "text/html": [
       "<div>\n",
       "<style scoped>\n",
       "    .dataframe tbody tr th:only-of-type {\n",
       "        vertical-align: middle;\n",
       "    }\n",
       "\n",
       "    .dataframe tbody tr th {\n",
       "        vertical-align: top;\n",
       "    }\n",
       "\n",
       "    .dataframe thead th {\n",
       "        text-align: right;\n",
       "    }\n",
       "</style>\n",
       "<table border=\"1\" class=\"dataframe\">\n",
       "  <thead>\n",
       "    <tr style=\"text-align: right;\">\n",
       "      <th></th>\n",
       "      <th>CSI Member Id</th>\n",
       "      <th>Name</th>\n",
       "      <th>Email Id</th>\n",
       "      <th>Phone</th>\n",
       "      <th>Address</th>\n",
       "      <th>City</th>\n",
       "      <th>Pincode</th>\n",
       "    </tr>\n",
       "    <tr>\n",
       "      <th>SNo</th>\n",
       "      <th></th>\n",
       "      <th></th>\n",
       "      <th></th>\n",
       "      <th></th>\n",
       "      <th></th>\n",
       "      <th></th>\n",
       "      <th></th>\n",
       "    </tr>\n",
       "  </thead>\n",
       "  <tbody>\n",
       "    <tr>\n",
       "      <th>0</th>\n",
       "      <td>2010000599</td>\n",
       "      <td>Mr. sakthivel marimuthu</td>\n",
       "      <td>sakthi.gri@gmail.com</td>\n",
       "      <td>9.444696e+09</td>\n",
       "      <td>First Floor Forest Quarters Forest Quarters,Ma...</td>\n",
       "      <td>thiruvallur district</td>\n",
       "      <td>601103</td>\n",
       "    </tr>\n",
       "    <tr>\n",
       "      <th>1</th>\n",
       "      <td>2010000898</td>\n",
       "      <td>Dr. Pradeep Kumar Sahoo</td>\n",
       "      <td>hipradeepsahoo@yahoo.com</td>\n",
       "      <td>9.840458e+09</td>\n",
       "      <td>No 12/4 Sakthiasumriya Flat20th Street T G Nagar</td>\n",
       "      <td>Nanganllur</td>\n",
       "      <td>600064</td>\n",
       "    </tr>\n",
       "    <tr>\n",
       "      <th>2</th>\n",
       "      <td>I0000077</td>\n",
       "      <td>Krishnamurthy K Krishnamurthy</td>\n",
       "      <td>krishkal@ieee.org</td>\n",
       "      <td>9.444407e+09</td>\n",
       "      <td>1 A, Rainbow Praveen Apartments, 44, Naickamar...</td>\n",
       "      <td>Chennai</td>\n",
       "      <td>600033</td>\n",
       "    </tr>\n",
       "    <tr>\n",
       "      <th>3</th>\n",
       "      <td>I0000786</td>\n",
       "      <td>Sundaram N Sundaram</td>\n",
       "      <td>stejasvi@satyam.net.in</td>\n",
       "      <td>0.000000e+00</td>\n",
       "      <td>Old No. 6, New No.11, 6th Cross Street, Shenoy...</td>\n",
       "      <td>Chennai</td>\n",
       "      <td>600030</td>\n",
       "    </tr>\n",
       "    <tr>\n",
       "      <th>4</th>\n",
       "      <td>I0000922</td>\n",
       "      <td>Chandramouli  Ponnusami</td>\n",
       "      <td>chandramouli24@vsnl.com</td>\n",
       "      <td>9.444036e+09</td>\n",
       "      <td>Flat No. 1, Ashok Vishnu, 22 Ram Colony,  West...</td>\n",
       "      <td>Chennai</td>\n",
       "      <td>600033</td>\n",
       "    </tr>\n",
       "    <tr>\n",
       "      <th>...</th>\n",
       "      <td>...</td>\n",
       "      <td>...</td>\n",
       "      <td>...</td>\n",
       "      <td>...</td>\n",
       "      <td>...</td>\n",
       "      <td>...</td>\n",
       "      <td>...</td>\n",
       "    </tr>\n",
       "    <tr>\n",
       "      <th>173</th>\n",
       "      <td>I1504189</td>\n",
       "      <td>Prof. N Malarvizhi</td>\n",
       "      <td>nmv_94@yahoomail.com</td>\n",
       "      <td>9.003183e+09</td>\n",
       "      <td>F2 Anira ApartmentsNo 7 Kaveri Street</td>\n",
       "      <td>Chennai</td>\n",
       "      <td>600093</td>\n",
       "    </tr>\n",
       "    <tr>\n",
       "      <th>174</th>\n",
       "      <td>I1504611</td>\n",
       "      <td>Dr. Subramaniam  Murugavalli</td>\n",
       "      <td>murugabalili26@rediffmail.com</td>\n",
       "      <td>9.751882e+09</td>\n",
       "      <td>Dept of CSEPanimallar Egnineering College Naze...</td>\n",
       "      <td>Chennai</td>\n",
       "      <td>600123</td>\n",
       "    </tr>\n",
       "    <tr>\n",
       "      <th>175</th>\n",
       "      <td>I1504948</td>\n",
       "      <td>Mr. S Muthalagan</td>\n",
       "      <td>smuthmylagam@gmail.com</td>\n",
       "      <td>8.056205e+09</td>\n",
       "      <td>51 3rd Main RoadRamakrishnapuram</td>\n",
       "      <td>Chennai</td>\n",
       "      <td>600059</td>\n",
       "    </tr>\n",
       "    <tr>\n",
       "      <th>176</th>\n",
       "      <td>I1505085</td>\n",
       "      <td>Mr. Nagappan V</td>\n",
       "      <td>nagappan@vsn.com</td>\n",
       "      <td>9.841011e+09</td>\n",
       "      <td>A 1 Shoreham No. 38V Avenue</td>\n",
       "      <td>Chennai</td>\n",
       "      <td>600090</td>\n",
       "    </tr>\n",
       "    <tr>\n",
       "      <th>177</th>\n",
       "      <td>I1505407</td>\n",
       "      <td>Prof. Baskaran  Ramachandran</td>\n",
       "      <td>baski@annauniv.edu</td>\n",
       "      <td>9.094022e+09</td>\n",
       "      <td>Dept. of CSECollege of Engg Guindy</td>\n",
       "      <td>Chennai</td>\n",
       "      <td>600025</td>\n",
       "    </tr>\n",
       "  </tbody>\n",
       "</table>\n",
       "<p>178 rows × 7 columns</p>\n",
       "</div>"
      ],
      "text/plain": [
       "    CSI Member Id                           Name  \\\n",
       "SNo                                                \n",
       "0      2010000599        Mr. sakthivel marimuthu   \n",
       "1      2010000898        Dr. Pradeep Kumar Sahoo   \n",
       "2        I0000077  Krishnamurthy K Krishnamurthy   \n",
       "3        I0000786            Sundaram N Sundaram   \n",
       "4        I0000922        Chandramouli  Ponnusami   \n",
       "..            ...                            ...   \n",
       "173      I1504189             Prof. N Malarvizhi   \n",
       "174      I1504611   Dr. Subramaniam  Murugavalli   \n",
       "175      I1504948               Mr. S Muthalagan   \n",
       "176      I1505085                 Mr. Nagappan V   \n",
       "177      I1505407   Prof. Baskaran  Ramachandran   \n",
       "\n",
       "                          Email Id         Phone  \\\n",
       "SNo                                                \n",
       "0             sakthi.gri@gmail.com  9.444696e+09   \n",
       "1         hipradeepsahoo@yahoo.com  9.840458e+09   \n",
       "2                krishkal@ieee.org  9.444407e+09   \n",
       "3           stejasvi@satyam.net.in  0.000000e+00   \n",
       "4          chandramouli24@vsnl.com  9.444036e+09   \n",
       "..                             ...           ...   \n",
       "173           nmv_94@yahoomail.com  9.003183e+09   \n",
       "174  murugabalili26@rediffmail.com  9.751882e+09   \n",
       "175         smuthmylagam@gmail.com  8.056205e+09   \n",
       "176               nagappan@vsn.com  9.841011e+09   \n",
       "177             baski@annauniv.edu  9.094022e+09   \n",
       "\n",
       "                                               Address                  City  \\\n",
       "SNo                                                                            \n",
       "0    First Floor Forest Quarters Forest Quarters,Ma...  thiruvallur district   \n",
       "1     No 12/4 Sakthiasumriya Flat20th Street T G Nagar            Nanganllur   \n",
       "2    1 A, Rainbow Praveen Apartments, 44, Naickamar...               Chennai   \n",
       "3    Old No. 6, New No.11, 6th Cross Street, Shenoy...               Chennai   \n",
       "4    Flat No. 1, Ashok Vishnu, 22 Ram Colony,  West...               Chennai   \n",
       "..                                                 ...                   ...   \n",
       "173              F2 Anira ApartmentsNo 7 Kaveri Street               Chennai   \n",
       "174  Dept of CSEPanimallar Egnineering College Naze...               Chennai   \n",
       "175                   51 3rd Main RoadRamakrishnapuram               Chennai   \n",
       "176                        A 1 Shoreham No. 38V Avenue               Chennai   \n",
       "177                 Dept. of CSECollege of Engg Guindy               Chennai   \n",
       "\n",
       "     Pincode  \n",
       "SNo           \n",
       "0     601103  \n",
       "1     600064  \n",
       "2     600033  \n",
       "3     600030  \n",
       "4     600033  \n",
       "..       ...  \n",
       "173   600093  \n",
       "174   600123  \n",
       "175   600059  \n",
       "176   600090  \n",
       "177   600025  \n",
       "\n",
       "[178 rows x 7 columns]"
      ]
     },
     "execution_count": 8,
     "metadata": {},
     "output_type": "execute_result"
    }
   ],
   "source": [
    "data_df"
   ]
  },
  {
   "cell_type": "code",
   "execution_count": 9,
   "id": "9a7072ea",
   "metadata": {},
   "outputs": [
    {
     "data": {
      "text/plain": [
       "Index(['CSI Member Id', 'Name', 'Email Id', 'Phone', 'Address', 'City',\n",
       "       'Pincode'],\n",
       "      dtype='object')"
      ]
     },
     "execution_count": 9,
     "metadata": {},
     "output_type": "execute_result"
    }
   ],
   "source": [
    "data_df.columns"
   ]
  },
  {
   "cell_type": "code",
   "execution_count": 10,
   "id": "d74b18c2",
   "metadata": {},
   "outputs": [
    {
     "data": {
      "text/plain": [
       "[(('CSI Member Id', '2010000599'),\n",
       "  ('Name', 'Mr. sakthivel marimuthu'),\n",
       "  ('Email Id', 'sakthi.gri@gmail.com'),\n",
       "  ('Phone', 9444695994.0),\n",
       "  ('Address',\n",
       "   'First Floor Forest Quarters Forest Quarters,Malandur vil Kalpet po'),\n",
       "  ('City', 'thiruvallur district'),\n",
       "  ('Pincode', 601103))]"
      ]
     },
     "execution_count": 10,
     "metadata": {},
     "output_type": "execute_result"
    }
   ],
   "source": [
    "test_list =  [(('CSI Member Id', data_df.loc[0, 'CSI Member Id']),\\\n",
    "              ('Name', data_df.loc[0, 'Name']),\\\n",
    "               ('Email Id', data_df.loc[0, 'Email Id']),\\\n",
    "               ('Phone', data_df.loc[0, 'Phone']),\\\n",
    "               ('Address', data_df.loc[0, 'Address']),\\\n",
    "               ('City', data_df.loc[0, 'City']),\\\n",
    "               ('Pincode', data_df.loc[0, 'Pincode']))]\n",
    "test_list"
   ]
  },
  {
   "cell_type": "code",
   "execution_count": 11,
   "id": "c3a8540c",
   "metadata": {},
   "outputs": [],
   "source": [
    "os.chdir('D:/CSI/Members/Output')"
   ]
  },
  {
   "cell_type": "markdown",
   "id": "0e2949a0",
   "metadata": {},
   "source": [
    "###\n",
    "# Table data in a form of list\n",
    "###\n",
    "dataList = [[('MemberCode', 'I0001992'),\\\n",
    "        ('FullName', 'Venkataraman R'),\\\n",
    "        ('emailAddress', ' '),\\\n",
    "        ('Phone Number', '0'),\\\n",
    "        ('Address', 'Plot 4  Street 3 South Sector New Colony ,Adambakkam'),\\\n",
    "        ('CityName', 'Kanchipuram'),\\\n",
    "        ('PinCode', '600088')],\n",
    "       [('MemberCode', 'I0002142'),\\\n",
    "        ('FullName', 'Ramachandran V'),\\\n",
    "        ('emailAddress', ' '),\\\n",
    "        ('Phone Number', '0'),\\\n",
    "        ('Address', '19, Venkatesan Street T Nagar'),\\\n",
    "        ('CityName', 'Chennai'),\\\n",
    "        ('PinCode', '600017')]\n",
    "       ]"
   ]
  },
  {
   "cell_type": "code",
   "execution_count": 12,
   "id": "0da7097f",
   "metadata": {},
   "outputs": [
    {
     "name": "stdout",
     "output_type": "stream",
     "text": [
      "Date: 13-06-2022\n"
     ]
    }
   ],
   "source": [
    "dtd  =  'Date: ' + str(datetime.now().strftime('%d-%m-%Y'))\n",
    "print(dtd)"
   ]
  },
  {
   "cell_type": "code",
   "execution_count": 13,
   "id": "00a3efb0",
   "metadata": {},
   "outputs": [],
   "source": [
    "###\n",
    "# Create an instance of a word document\n",
    "###\n",
    "doc  =  docx.Document()"
   ]
  },
  {
   "cell_type": "code",
   "execution_count": 14,
   "id": "427cf79c",
   "metadata": {},
   "outputs": [],
   "source": [
    "for l  in  range(size):\n",
    "    data =  (('CSI Member Id', data_df.loc[l, 'CSI Member Id']),\\\n",
    "              ('Name', data_df.loc[l, 'Name']),\\\n",
    "               ('Email Id', data_df.loc[l, 'Email Id']),\\\n",
    "               ('Phone', data_df.loc[l, 'Phone']),\\\n",
    "               ('Address', data_df.loc[l, 'Address']),\\\n",
    "               ('District/City', data_df.loc[l, 'City']),\\\n",
    "               ('Pincode', data_df.loc[l, 'Pincode']))\n",
    "    ###\n",
    "    # Adding heading in the first row of the table \n",
    "    ###\n",
    "    doc.add_heading('Confirmation of your contact details', 0) \n",
    "    ### \n",
    "    # Adding a paragraph\n",
    "    ###        \n",
    "    doc.add_paragraph(dtd) \n",
    "    doc.add_heading('\\nDear CSI Member', 3)\n",
    "    doc.add_paragraph('\\nGreetings from CSI Chennai Chapter!')    \n",
    "    doc.add_paragraph('Your contact details as per our records are given below:')\n",
    "\n",
    "    # Creating a table object\n",
    "    ###\n",
    "    table  = doc.add_table(rows = 1, cols = 2)\n",
    "    # Add a Title to the document\n",
    "    row               =  table.rows[0].cells\n",
    "    row[0].text       = 'Column'\n",
    "    row[1].text       = 'Details'\n",
    "    ###\n",
    "    for idx, txt in data:\n",
    "        ###\n",
    "        # Adding a row and then adding data in it\n",
    "        ###\n",
    "        row          =  table.add_row().cells\n",
    "        row[0].text  =  idx\n",
    "        row[1].text  =  str(txt)\n",
    "        ###\n",
    "        \n",
    "    ###   \n",
    "    # Adding style to a table\n",
    "    ###\n",
    "    table.style   =  'Light Grid'    \n",
    "\n",
    "    doc.add_paragraph('\\n\\nPlease confirm if they are correct. If they are incorrect or changed, please send email us at info@csichennai.org with CC to sonali@csi-india.org with your Membership Id and the correct contact details.\\n\\n')\n",
    "    doc.add_paragraph('\\nWarm regards')  \n",
    "    doc.add_paragraph('Dr. A Akila Ganesh, Secretary, CSI Chennai Chapter\\n')\n",
    "    doc.add_paragraph('\\nThis is a computer generated document requiring no signature')\n",
    "    para          =  doc.add_paragraph('\\n')  \n",
    "    address_lines = ''\n",
    "    for idx, txt in data:\n",
    "        ###\n",
    "        # Adding a row and then adding data in it\n",
    "        ###\n",
    "        if  idx in ['Name', 'Address', 'District/CityName', 'Pincode']:\n",
    "            address_lines +=   '\\n' + str(txt)\n",
    "    doc.add_paragraph(address_lines) \n",
    "    # Adding a page break\n",
    "    #doc.add_page_break()"
   ]
  },
  {
   "cell_type": "code",
   "execution_count": 15,
   "id": "cc648f38",
   "metadata": {},
   "outputs": [],
   "source": [
    "###\n",
    "# Now save the document to a location\n",
    "###\n",
    "output_file_name =  'undelivered_csi-member-details' + str(datetime.now().strftime('%Y_%m_%d_%H_%M_%S')) + '.docx'\n",
    "doc.save(output_file_name)\n",
    "###\n",
    "# END\n",
    "###"
   ]
  },
  {
   "cell_type": "code",
   "execution_count": 16,
   "id": "e43a85db",
   "metadata": {},
   "outputs": [
    {
     "data": {
      "text/plain": [
       "'undelivered_csi-member-details2022_06_13_20_08_37.docx'"
      ]
     },
     "execution_count": 16,
     "metadata": {},
     "output_type": "execute_result"
    }
   ],
   "source": [
    "output_file_name"
   ]
  }
 ],
 "metadata": {
  "kernelspec": {
   "display_name": "Python 3",
   "language": "python",
   "name": "python3"
  },
  "language_info": {
   "codemirror_mode": {
    "name": "ipython",
    "version": 3
   },
   "file_extension": ".py",
   "mimetype": "text/x-python",
   "name": "python",
   "nbconvert_exporter": "python",
   "pygments_lexer": "ipython3",
   "version": "3.8.8"
  }
 },
 "nbformat": 4,
 "nbformat_minor": 5
}
