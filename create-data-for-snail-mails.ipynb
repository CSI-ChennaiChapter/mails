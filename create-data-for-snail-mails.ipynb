{
 "cells": [
  {
   "cell_type": "code",
   "execution_count": 1,
   "id": "79a55c1f",
   "metadata": {},
   "outputs": [],
   "source": [
    "import   os\n",
    "folder  =  r'D:\\CSI\\Members\\error'\n",
    "os.chdir(folder)"
   ]
  },
  {
   "cell_type": "code",
   "execution_count": 2,
   "id": "b9f25297",
   "metadata": {},
   "outputs": [],
   "source": [
    "from      datetime  import datetime"
   ]
  },
  {
   "cell_type": "code",
   "execution_count": 3,
   "id": "2a6ddb99",
   "metadata": {},
   "outputs": [
    {
     "name": "stdout",
     "output_type": "stream",
     "text": [
      "Shape (178, 3)\n"
     ]
    }
   ],
   "source": [
    "import   pandas   as    pd\n",
    "import   numpy    as    np\n",
    "\n",
    "file1     =   'Bounced-CSI-member-email IDs-2022_06_12_06_17_48.csv'\n",
    "df1       =   pd.read_csv(file1)\n",
    "print('Shape {}'.format(df1.shape))"
   ]
  },
  {
   "cell_type": "code",
   "execution_count": 4,
   "id": "6f4758c4",
   "metadata": {},
   "outputs": [
    {
     "data": {
      "text/plain": [
       "Index(['Sno', 'Email ID', 'Member ID'], dtype='object')"
      ]
     },
     "execution_count": 4,
     "metadata": {},
     "output_type": "execute_result"
    }
   ],
   "source": [
    "df1.columns"
   ]
  },
  {
   "cell_type": "code",
   "execution_count": 23,
   "id": "a73cc3a9",
   "metadata": {},
   "outputs": [
    {
     "data": {
      "text/html": [
       "<div>\n",
       "<style scoped>\n",
       "    .dataframe tbody tr th:only-of-type {\n",
       "        vertical-align: middle;\n",
       "    }\n",
       "\n",
       "    .dataframe tbody tr th {\n",
       "        vertical-align: top;\n",
       "    }\n",
       "\n",
       "    .dataframe thead th {\n",
       "        text-align: right;\n",
       "    }\n",
       "</style>\n",
       "<table border=\"1\" class=\"dataframe\">\n",
       "  <thead>\n",
       "    <tr style=\"text-align: right;\">\n",
       "      <th></th>\n",
       "      <th>0</th>\n",
       "      <th>1</th>\n",
       "      <th>2</th>\n",
       "      <th>3</th>\n",
       "      <th>4</th>\n",
       "    </tr>\n",
       "  </thead>\n",
       "  <tbody>\n",
       "    <tr>\n",
       "      <th>Sno</th>\n",
       "      <td>1</td>\n",
       "      <td>2</td>\n",
       "      <td>3</td>\n",
       "      <td>4</td>\n",
       "      <td>5</td>\n",
       "    </tr>\n",
       "    <tr>\n",
       "      <th>Email ID</th>\n",
       "      <td>svraaman_1954@yahoo.co.in</td>\n",
       "      <td>stejasvi@satyam.net.in</td>\n",
       "      <td>arm@sancm.csir.res.in</td>\n",
       "      <td>murugan.k@ge.com</td>\n",
       "      <td>balipara@dataone.in</td>\n",
       "    </tr>\n",
       "    <tr>\n",
       "      <th>Member ID</th>\n",
       "      <td>I0007079</td>\n",
       "      <td>I0000786</td>\n",
       "      <td>I0018093</td>\n",
       "      <td>I0015489</td>\n",
       "      <td>I0002601</td>\n",
       "    </tr>\n",
       "  </tbody>\n",
       "</table>\n",
       "</div>"
      ],
      "text/plain": [
       "                                   0                       1  \\\n",
       "Sno                                1                       2   \n",
       "Email ID   svraaman_1954@yahoo.co.in  stejasvi@satyam.net.in   \n",
       "Member ID                   I0007079                I0000786   \n",
       "\n",
       "                               2                 3                    4  \n",
       "Sno                            3                 4                    5  \n",
       "Email ID   arm@sancm.csir.res.in  murugan.k@ge.com  balipara@dataone.in  \n",
       "Member ID               I0018093          I0015489             I0002601  "
      ]
     },
     "execution_count": 23,
     "metadata": {},
     "output_type": "execute_result"
    }
   ],
   "source": [
    "df1.head().T"
   ]
  },
  {
   "cell_type": "code",
   "execution_count": 5,
   "id": "4fa883e7",
   "metadata": {},
   "outputs": [
    {
     "name": "stdout",
     "output_type": "stream",
     "text": [
      "Shape (964, 20)\n"
     ]
    }
   ],
   "source": [
    "file2     =   r'D:\\CSI\\Members\\Data\\CSI_CC_Members_HQ.csv'\n",
    "df2       =   pd.read_csv(file2)\n",
    "print('Shape {}'.format(df2.shape))"
   ]
  },
  {
   "cell_type": "code",
   "execution_count": 6,
   "id": "74eb3e6f",
   "metadata": {},
   "outputs": [],
   "source": [
    "df2[['Street1','street2']] = df2[['Street1','street2']].fillna('') # Specific columns"
   ]
  },
  {
   "cell_type": "code",
   "execution_count": 7,
   "id": "8aa20c37",
   "metadata": {},
   "outputs": [],
   "source": [
    "df2['Address']  =  df2['Street1'] + df2['street2'] "
   ]
  },
  {
   "cell_type": "code",
   "execution_count": 8,
   "id": "c629a915",
   "metadata": {},
   "outputs": [
    {
     "data": {
      "text/html": [
       "<div>\n",
       "<style scoped>\n",
       "    .dataframe tbody tr th:only-of-type {\n",
       "        vertical-align: middle;\n",
       "    }\n",
       "\n",
       "    .dataframe tbody tr th {\n",
       "        vertical-align: top;\n",
       "    }\n",
       "\n",
       "    .dataframe thead th {\n",
       "        text-align: right;\n",
       "    }\n",
       "</style>\n",
       "<table border=\"1\" class=\"dataframe\">\n",
       "  <thead>\n",
       "    <tr style=\"text-align: right;\">\n",
       "      <th></th>\n",
       "      <th>0</th>\n",
       "      <th>1</th>\n",
       "    </tr>\n",
       "  </thead>\n",
       "  <tbody>\n",
       "    <tr>\n",
       "      <th>MemberCode</th>\n",
       "      <td>I1203637</td>\n",
       "      <td>I0148983</td>\n",
       "    </tr>\n",
       "    <tr>\n",
       "      <th>First Name</th>\n",
       "      <td>Akella</td>\n",
       "      <td>Padmaveni</td>\n",
       "    </tr>\n",
       "    <tr>\n",
       "      <th>Middle Name</th>\n",
       "      <td>Venkatasurya</td>\n",
       "      <td>NaN</td>\n",
       "    </tr>\n",
       "    <tr>\n",
       "      <th>Last Name</th>\n",
       "      <td>Prabhakar</td>\n",
       "      <td>Padmaveni</td>\n",
       "    </tr>\n",
       "    <tr>\n",
       "      <th>FullName</th>\n",
       "      <td>Akella Venkatasurya Prabhakar</td>\n",
       "      <td>Padmaveni  Padmaveni</td>\n",
       "    </tr>\n",
       "    <tr>\n",
       "      <th>EffectiveDate</th>\n",
       "      <td>2012-12-10</td>\n",
       "      <td>2007-03-29</td>\n",
       "    </tr>\n",
       "    <tr>\n",
       "      <th>Street1</th>\n",
       "      <td>5/20, Sri Sumathinath Residency Extn., Nanmang...</td>\n",
       "      <td>Asso Professor , Hindustan Institute of Techno...</td>\n",
       "    </tr>\n",
       "    <tr>\n",
       "      <th>street2</th>\n",
       "      <td></td>\n",
       "      <td>1, Rajiv Gandhi Salai, Old Mahabalipuram Road,...</td>\n",
       "    </tr>\n",
       "    <tr>\n",
       "      <th>CityName</th>\n",
       "      <td>Chennai</td>\n",
       "      <td>Chennai</td>\n",
       "    </tr>\n",
       "    <tr>\n",
       "      <th>ChapterName</th>\n",
       "      <td>Chennai</td>\n",
       "      <td>Chennai</td>\n",
       "    </tr>\n",
       "    <tr>\n",
       "      <th>PinCodes</th>\n",
       "      <td>600117</td>\n",
       "      <td>603103</td>\n",
       "    </tr>\n",
       "    <tr>\n",
       "      <th>AreaName</th>\n",
       "      <td>NaN</td>\n",
       "      <td>Kelambakam,</td>\n",
       "    </tr>\n",
       "    <tr>\n",
       "      <th>State</th>\n",
       "      <td>TAMIL NADU</td>\n",
       "      <td>TAMIL NADU</td>\n",
       "    </tr>\n",
       "    <tr>\n",
       "      <th>Regions</th>\n",
       "      <td>Region7</td>\n",
       "      <td>Region7</td>\n",
       "    </tr>\n",
       "    <tr>\n",
       "      <th>emailAddress</th>\n",
       "      <td>avsprabhakar@gmail.com</td>\n",
       "      <td>kpadmaveni@hindustanuniv.ac.in</td>\n",
       "    </tr>\n",
       "    <tr>\n",
       "      <th>secondary email-id</th>\n",
       "      <td>NaN</td>\n",
       "      <td>p_veni@yahoo.co.uk</td>\n",
       "    </tr>\n",
       "    <tr>\n",
       "      <th>ContactDetails</th>\n",
       "      <td>9840974950</td>\n",
       "      <td>9962544590</td>\n",
       "    </tr>\n",
       "    <tr>\n",
       "      <th>Unnamed: 17</th>\n",
       "      <td>NaN</td>\n",
       "      <td>NaN</td>\n",
       "    </tr>\n",
       "    <tr>\n",
       "      <th>Unnamed: 18</th>\n",
       "      <td>NaN</td>\n",
       "      <td>NaN</td>\n",
       "    </tr>\n",
       "    <tr>\n",
       "      <th>Unnamed: 19</th>\n",
       "      <td>NaN</td>\n",
       "      <td>NaN</td>\n",
       "    </tr>\n",
       "    <tr>\n",
       "      <th>Address</th>\n",
       "      <td>5/20, Sri Sumathinath Residency Extn., Nanmang...</td>\n",
       "      <td>Asso Professor , Hindustan Institute of Techno...</td>\n",
       "    </tr>\n",
       "  </tbody>\n",
       "</table>\n",
       "</div>"
      ],
      "text/plain": [
       "                                                                    0  \\\n",
       "MemberCode                                                   I1203637   \n",
       "First Name                                                     Akella   \n",
       "Middle Name                                              Venkatasurya   \n",
       "Last Name                                                   Prabhakar   \n",
       "FullName                                Akella Venkatasurya Prabhakar   \n",
       "EffectiveDate                                              2012-12-10   \n",
       "Street1             5/20, Sri Sumathinath Residency Extn., Nanmang...   \n",
       "street2                                                                 \n",
       "CityName                                                      Chennai   \n",
       "ChapterName                                                   Chennai   \n",
       "PinCodes                                                       600117   \n",
       "AreaName                                                          NaN   \n",
       "State                                                      TAMIL NADU   \n",
       "Regions                                                       Region7   \n",
       "emailAddress                                   avsprabhakar@gmail.com   \n",
       "secondary email-id                                                NaN   \n",
       "ContactDetails                                             9840974950   \n",
       "Unnamed: 17                                                       NaN   \n",
       "Unnamed: 18                                                       NaN   \n",
       "Unnamed: 19                                                       NaN   \n",
       "Address             5/20, Sri Sumathinath Residency Extn., Nanmang...   \n",
       "\n",
       "                                                                    1  \n",
       "MemberCode                                                   I0148983  \n",
       "First Name                                                  Padmaveni  \n",
       "Middle Name                                                       NaN  \n",
       "Last Name                                                   Padmaveni  \n",
       "FullName                                         Padmaveni  Padmaveni  \n",
       "EffectiveDate                                              2007-03-29  \n",
       "Street1             Asso Professor , Hindustan Institute of Techno...  \n",
       "street2             1, Rajiv Gandhi Salai, Old Mahabalipuram Road,...  \n",
       "CityName                                                      Chennai  \n",
       "ChapterName                                                   Chennai  \n",
       "PinCodes                                                       603103  \n",
       "AreaName                                                  Kelambakam,  \n",
       "State                                                      TAMIL NADU  \n",
       "Regions                                                       Region7  \n",
       "emailAddress                           kpadmaveni@hindustanuniv.ac.in  \n",
       "secondary email-id                                 p_veni@yahoo.co.uk  \n",
       "ContactDetails                                             9962544590  \n",
       "Unnamed: 17                                                       NaN  \n",
       "Unnamed: 18                                                       NaN  \n",
       "Unnamed: 19                                                       NaN  \n",
       "Address             Asso Professor , Hindustan Institute of Techno...  "
      ]
     },
     "execution_count": 8,
     "metadata": {},
     "output_type": "execute_result"
    }
   ],
   "source": [
    "df2.head(2).T"
   ]
  },
  {
   "cell_type": "code",
   "execution_count": 9,
   "id": "3eaf343b",
   "metadata": {},
   "outputs": [
    {
     "data": {
      "text/plain": [
       "7"
      ]
     },
     "execution_count": 9,
     "metadata": {},
     "output_type": "execute_result"
    }
   ],
   "source": [
    "cols_list  =  ['MemberCode','FullName','emailAddress','ContactDetails','Address','CityName','PinCode']\n",
    "len(cols_list)"
   ]
  },
  {
   "cell_type": "code",
   "execution_count": 10,
   "id": "f7315a51",
   "metadata": {},
   "outputs": [
    {
     "data": {
      "text/plain": [
       "Index(['MemberCode', 'First Name', 'Middle Name', 'Last Name', 'FullName',\n",
       "       'EffectiveDate', 'Street1', 'street2', 'CityName', 'ChapterName',\n",
       "       'PinCodes', 'AreaName', 'State', 'Regions', 'emailAddress',\n",
       "       'secondary email-id', 'ContactDetails', 'Unnamed: 17', 'Unnamed: 18',\n",
       "       'Unnamed: 19', 'Address'],\n",
       "      dtype='object')"
      ]
     },
     "execution_count": 10,
     "metadata": {},
     "output_type": "execute_result"
    }
   ],
   "source": [
    "df2.columns"
   ]
  },
  {
   "cell_type": "code",
   "execution_count": 11,
   "id": "91f9044e",
   "metadata": {},
   "outputs": [],
   "source": [
    "df_merge      =    pd.merge(df1, df2, how = 'inner', left_on = 'Member ID', right_on = 'MemberCode')"
   ]
  },
  {
   "cell_type": "code",
   "execution_count": 18,
   "id": "5f2797dc",
   "metadata": {},
   "outputs": [
    {
     "data": {
      "text/plain": [
       "Index(['Sno', 'Email ID', 'Member ID', 'MemberCode', 'First Name',\n",
       "       'Middle Name', 'Last Name', 'FullName', 'EffectiveDate', 'Street1',\n",
       "       'street2', 'CityName', 'ChapterName', 'PinCodes', 'AreaName', 'State',\n",
       "       'Regions', 'emailAddress', 'secondary email-id', 'ContactDetails',\n",
       "       'Unnamed: 17', 'Unnamed: 18', 'Unnamed: 19', 'Address'],\n",
       "      dtype='object')"
      ]
     },
     "execution_count": 18,
     "metadata": {},
     "output_type": "execute_result"
    }
   ],
   "source": [
    "df_merge.columns"
   ]
  },
  {
   "cell_type": "code",
   "execution_count": 19,
   "id": "ca471b29",
   "metadata": {},
   "outputs": [],
   "source": [
    "Cols    =   ['MemberCode','FullName','emailAddress','ContactDetails', 'Address', 'CityName','PinCodes']\n",
    "df_und  =   df_merge.loc[:,Cols ]"
   ]
  },
  {
   "cell_type": "code",
   "execution_count": 20,
   "id": "5582099f",
   "metadata": {},
   "outputs": [],
   "source": [
    "df_und.columns   =  cols_list "
   ]
  },
  {
   "cell_type": "code",
   "execution_count": 21,
   "id": "201e0d92",
   "metadata": {},
   "outputs": [
    {
     "data": {
      "text/plain": [
       "'D:\\\\CSI\\\\Members\\\\error'"
      ]
     },
     "execution_count": 21,
     "metadata": {},
     "output_type": "execute_result"
    }
   ],
   "source": [
    "os.getcwd()"
   ]
  },
  {
   "cell_type": "code",
   "execution_count": 22,
   "id": "524c46c9",
   "metadata": {},
   "outputs": [],
   "source": [
    "output_file_name =  'Bounced-CSI-member-email IDs-' + str(datetime.now().strftime('%Y_%m_%d_%H_%M_%S')) + '.csv'\n",
    "df_und.to_csv(output_file_name, index = False)\n"
   ]
  }
 ],
 "metadata": {
  "kernelspec": {
   "display_name": "Python 3",
   "language": "python",
   "name": "python3"
  },
  "language_info": {
   "codemirror_mode": {
    "name": "ipython",
    "version": 3
   },
   "file_extension": ".py",
   "mimetype": "text/x-python",
   "name": "python",
   "nbconvert_exporter": "python",
   "pygments_lexer": "ipython3",
   "version": "3.8.8"
  }
 },
 "nbformat": 4,
 "nbformat_minor": 5
}
