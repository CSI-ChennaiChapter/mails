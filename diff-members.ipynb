{
 "cells": [
  {
   "cell_type": "code",
   "execution_count": 1,
   "id": "7fc5909e",
   "metadata": {},
   "outputs": [],
   "source": [
    "import   pandas    as   pd\n",
    "import   numpy     as   np\n"
   ]
  },
  {
   "cell_type": "code",
   "execution_count": 2,
   "id": "25b5401d",
   "metadata": {},
   "outputs": [],
   "source": [
    "EL = ['I0014996','I0002365','I0002053','I0076445','I0005078','I0002264','I0016452','I0004852','I0007141',\\\n",
    "      'I0009008','I0017531','I0014015','I0000878','I0001451','I0004061','I0004333','I0006993','I0010325','I0018183']"
   ]
  },
  {
   "cell_type": "code",
   "execution_count": 3,
   "id": "abd4d4c0",
   "metadata": {},
   "outputs": [],
   "source": [
    "df     =    pd.read_csv(r'D:\\CSI\\Members\\Data\\CSI_CC_Members_HQ.csv')\n",
    "ML     =    df['MemberCode']"
   ]
  },
  {
   "cell_type": "code",
   "execution_count": 4,
   "id": "13d29632",
   "metadata": {},
   "outputs": [],
   "source": [
    "Diff   =    set(EL) - set(ML)"
   ]
  },
  {
   "cell_type": "code",
   "execution_count": 5,
   "id": "9a9ef559",
   "metadata": {},
   "outputs": [
    {
     "data": {
      "text/plain": [
       "1"
      ]
     },
     "execution_count": 5,
     "metadata": {},
     "output_type": "execute_result"
    }
   ],
   "source": [
    "len(Diff)"
   ]
  },
  {
   "cell_type": "code",
   "execution_count": 6,
   "id": "f1dbbc2c",
   "metadata": {},
   "outputs": [
    {
     "data": {
      "text/plain": [
       "{'I0002053'}"
      ]
     },
     "execution_count": 6,
     "metadata": {},
     "output_type": "execute_result"
    }
   ],
   "source": [
    "Diff"
   ]
  },
  {
   "cell_type": "code",
   "execution_count": null,
   "id": "e5ae083c",
   "metadata": {},
   "outputs": [],
   "source": []
  }
 ],
 "metadata": {
  "kernelspec": {
   "display_name": "Python 3",
   "language": "python",
   "name": "python3"
  },
  "language_info": {
   "codemirror_mode": {
    "name": "ipython",
    "version": 3
   },
   "file_extension": ".py",
   "mimetype": "text/x-python",
   "name": "python",
   "nbconvert_exporter": "python",
   "pygments_lexer": "ipython3",
   "version": "3.8.8"
  }
 },
 "nbformat": 4,
 "nbformat_minor": 5
}
