{
 "cells": [
  {
   "cell_type": "markdown",
   "id": "31caf9d6",
   "metadata": {},
   "source": [
    "### Create a doc file using python"
   ]
  },
  {
   "cell_type": "markdown",
   "id": "40eee8ab",
   "metadata": {},
   "source": [
    "! pip install python-docx"
   ]
  },
  {
   "cell_type": "code",
   "execution_count": 1,
   "id": "7ad194d5",
   "metadata": {},
   "outputs": [
    {
     "name": "stdout",
     "output_type": "stream",
     "text": [
      "(133, 7)\n",
      "                                                                0  \\\n",
      "MemberCode                                               I0001992   \n",
      "FullName                              Venkataraman R Venkataraman   \n",
      "emailAddress                             csi00001992@cw-india.org   \n",
      "ContactDetails                                                0.0   \n",
      "Address         Plot 4  Street 3 South Sector New Colony ,adam...   \n",
      "CityName                                              Kanchipuram   \n",
      "PinCode                                                    600088   \n",
      "\n",
      "                                            1  \\\n",
      "MemberCode                           I0002142   \n",
      "FullName          Ramachandran V Ramachandran   \n",
      "emailAddress         csi00002142@cw-india.org   \n",
      "ContactDetails                            0.0   \n",
      "Address         19, Venkatesan Street T Nagar   \n",
      "CityName                              Chennai   \n",
      "PinCode                                600017   \n",
      "\n",
      "                                                                2  \\\n",
      "MemberCode                                               I0005576   \n",
      "FullName                        Balasubramanian K Balasubramanian   \n",
      "emailAddress                             csi00005576@cw-india.org   \n",
      "ContactDetails                                                0.0   \n",
      "Address         Director Akshay Business Services P Ltd 33 Fir...   \n",
      "CityName                                                  Chennai   \n",
      "PinCode                                                    600020   \n",
      "\n",
      "                                              3  \\\n",
      "MemberCode                             I0007199   \n",
      "FullName              Venugopalan G Venugopalan   \n",
      "emailAddress           csi00007199@cw-india.org   \n",
      "ContactDetails                              0.0   \n",
      "Address         1a Mahalakshmi St East Tambaram   \n",
      "CityName                            Kanchipuram   \n",
      "PinCode                                  600059   \n",
      "\n",
      "                                                               4  \n",
      "MemberCode                                              I0014058  \n",
      "FullName                       Balasubramanian N Balasubramanian  \n",
      "emailAddress                            csi00014058@cw-india.org  \n",
      "ContactDetails                                               0.0  \n",
      "Address         23/6 Kamal Apartments Ist Cross Street R A Puram  \n",
      "CityName                                                 Chennai  \n",
      "PinCode                                                   600028  \n"
     ]
    }
   ],
   "source": [
    "import  pandas     as     pd\n",
    "import  datetime\n",
    "from    datetime   import datetime\n",
    "import  docx, os\n",
    "\n",
    "file1  =  'D:/CSI/Members/wrong-domain-csi-member-details2022_05_07_17_13_49.csv'\n",
    "\n",
    "df1    =   pd.read_csv(file1)\n",
    "print(df1.shape)\n",
    "print(df1.head().T)"
   ]
  },
  {
   "cell_type": "code",
   "execution_count": 2,
   "id": "46cbc77c",
   "metadata": {},
   "outputs": [
    {
     "data": {
      "text/plain": [
       "Index(['MemberCode', 'FullName', 'emailAddress', 'ContactDetails', 'Address',\n",
       "       'CityName', 'PinCode'],\n",
       "      dtype='object')"
      ]
     },
     "execution_count": 2,
     "metadata": {},
     "output_type": "execute_result"
    }
   ],
   "source": [
    "df1.columns"
   ]
  },
  {
   "cell_type": "code",
   "execution_count": 3,
   "id": "4566fe69",
   "metadata": {},
   "outputs": [],
   "source": [
    "Col1_fixed =  ['CSI Member Id', 'Name', 'Email Id', 'Phone', 'Address', 'City', 'Pincode']"
   ]
  },
  {
   "cell_type": "code",
   "execution_count": 4,
   "id": "c077ca7d",
   "metadata": {},
   "outputs": [],
   "source": [
    "Colnamesu  =  ['MemberCode', 'FullName', 'emailAddress', 'ContactDetails', 'Address','CityName', 'PinCode']"
   ]
  },
  {
   "cell_type": "code",
   "execution_count": 5,
   "id": "a35a5bae",
   "metadata": {},
   "outputs": [
    {
     "data": {
      "text/plain": [
       "(133, 7)"
      ]
     },
     "execution_count": 5,
     "metadata": {},
     "output_type": "execute_result"
    }
   ],
   "source": [
    "df2        =  df1.loc[:, Colnamesu]\n",
    "df2.shape"
   ]
  },
  {
   "cell_type": "code",
   "execution_count": 6,
   "id": "77fb16af",
   "metadata": {},
   "outputs": [
    {
     "name": "stdout",
     "output_type": "stream",
     "text": [
      "(133, 7)\n"
     ]
    }
   ],
   "source": [
    "data_df   =  pd.DataFrame()\n",
    "\n",
    "for j in range(df2.shape[0]):\n",
    "        df2_df = pd.DataFrame({'SNo' : j, 'CSI Member Id': df2.loc[j, 'MemberCode'],\\\n",
    "                     'Name' : df2.loc[j, 'FullName'],\\\n",
    "                     'Email Id' : df2.loc[j, 'emailAddress'],\\\n",
    "                     'Phone' : df2.loc[j, 'ContactDetails'],\\\n",
    "                     'Address' : df2.loc[j, 'Address'],\\\n",
    "                     'City' : df2.loc[j, 'CityName'],\\\n",
    "                     'Pincode' : df2.loc[j, 'PinCode']} , index = [0])\n",
    "        data_df   =    data_df.append(df2_df)\n",
    "                          \n",
    "###\n",
    "data_df  =  data_df.set_index('SNo')\n",
    "print(data_df.shape)"
   ]
  },
  {
   "cell_type": "code",
   "execution_count": 7,
   "id": "75254720",
   "metadata": {},
   "outputs": [],
   "source": [
    "size  = data_df.shape[0]"
   ]
  },
  {
   "cell_type": "code",
   "execution_count": 8,
   "id": "6cacf510",
   "metadata": {},
   "outputs": [
    {
     "data": {
      "text/html": [
       "<div>\n",
       "<style scoped>\n",
       "    .dataframe tbody tr th:only-of-type {\n",
       "        vertical-align: middle;\n",
       "    }\n",
       "\n",
       "    .dataframe tbody tr th {\n",
       "        vertical-align: top;\n",
       "    }\n",
       "\n",
       "    .dataframe thead th {\n",
       "        text-align: right;\n",
       "    }\n",
       "</style>\n",
       "<table border=\"1\" class=\"dataframe\">\n",
       "  <thead>\n",
       "    <tr style=\"text-align: right;\">\n",
       "      <th></th>\n",
       "      <th>CSI Member Id</th>\n",
       "      <th>Name</th>\n",
       "      <th>Email Id</th>\n",
       "      <th>Phone</th>\n",
       "      <th>Address</th>\n",
       "      <th>City</th>\n",
       "      <th>Pincode</th>\n",
       "    </tr>\n",
       "    <tr>\n",
       "      <th>SNo</th>\n",
       "      <th></th>\n",
       "      <th></th>\n",
       "      <th></th>\n",
       "      <th></th>\n",
       "      <th></th>\n",
       "      <th></th>\n",
       "      <th></th>\n",
       "    </tr>\n",
       "  </thead>\n",
       "  <tbody>\n",
       "    <tr>\n",
       "      <th>0</th>\n",
       "      <td>I0001992</td>\n",
       "      <td>Venkataraman R Venkataraman</td>\n",
       "      <td>csi00001992@cw-india.org</td>\n",
       "      <td>0.0</td>\n",
       "      <td>Plot 4  Street 3 South Sector New Colony ,adam...</td>\n",
       "      <td>Kanchipuram</td>\n",
       "      <td>600088</td>\n",
       "    </tr>\n",
       "    <tr>\n",
       "      <th>1</th>\n",
       "      <td>I0002142</td>\n",
       "      <td>Ramachandran V Ramachandran</td>\n",
       "      <td>csi00002142@cw-india.org</td>\n",
       "      <td>0.0</td>\n",
       "      <td>19, Venkatesan Street T Nagar</td>\n",
       "      <td>Chennai</td>\n",
       "      <td>600017</td>\n",
       "    </tr>\n",
       "    <tr>\n",
       "      <th>2</th>\n",
       "      <td>I0005576</td>\n",
       "      <td>Balasubramanian K Balasubramanian</td>\n",
       "      <td>csi00005576@cw-india.org</td>\n",
       "      <td>0.0</td>\n",
       "      <td>Director Akshay Business Services P Ltd 33 Fir...</td>\n",
       "      <td>Chennai</td>\n",
       "      <td>600020</td>\n",
       "    </tr>\n",
       "    <tr>\n",
       "      <th>3</th>\n",
       "      <td>I0007199</td>\n",
       "      <td>Venugopalan G Venugopalan</td>\n",
       "      <td>csi00007199@cw-india.org</td>\n",
       "      <td>0.0</td>\n",
       "      <td>1a Mahalakshmi St East Tambaram</td>\n",
       "      <td>Kanchipuram</td>\n",
       "      <td>600059</td>\n",
       "    </tr>\n",
       "    <tr>\n",
       "      <th>4</th>\n",
       "      <td>I0014058</td>\n",
       "      <td>Balasubramanian N Balasubramanian</td>\n",
       "      <td>csi00014058@cw-india.org</td>\n",
       "      <td>0.0</td>\n",
       "      <td>23/6 Kamal Apartments Ist Cross Street R A Puram</td>\n",
       "      <td>Chennai</td>\n",
       "      <td>600028</td>\n",
       "    </tr>\n",
       "    <tr>\n",
       "      <th>...</th>\n",
       "      <td>...</td>\n",
       "      <td>...</td>\n",
       "      <td>...</td>\n",
       "      <td>...</td>\n",
       "      <td>...</td>\n",
       "      <td>...</td>\n",
       "      <td>...</td>\n",
       "    </tr>\n",
       "    <tr>\n",
       "      <th>128</th>\n",
       "      <td>I0019275</td>\n",
       "      <td>Ramasubramanian V Ramasubramanian</td>\n",
       "      <td>csi00019275@cw-india.org</td>\n",
       "      <td>0.0</td>\n",
       "      <td>Flat 38 No 4 4th Main Road Gandhi Nagar Adyar</td>\n",
       "      <td>Chennai</td>\n",
       "      <td>600020</td>\n",
       "    </tr>\n",
       "    <tr>\n",
       "      <th>129</th>\n",
       "      <td>I0004345</td>\n",
       "      <td>Giridharan R Giridharan</td>\n",
       "      <td>csi00004345@cw-india.org</td>\n",
       "      <td>0.0</td>\n",
       "      <td>Block No.8 , Flat No.9 , Second Floor,brindava...</td>\n",
       "      <td>Tiruvallur</td>\n",
       "      <td>600062</td>\n",
       "    </tr>\n",
       "    <tr>\n",
       "      <th>130</th>\n",
       "      <td>I0003081</td>\n",
       "      <td>Devarajan S Devarajan</td>\n",
       "      <td>csi00003081@cw-india.org</td>\n",
       "      <td>0.0</td>\n",
       "      <td>3 Park Avenue K P Puram Green Ways Road</td>\n",
       "      <td>Chennai</td>\n",
       "      <td>600028</td>\n",
       "    </tr>\n",
       "    <tr>\n",
       "      <th>131</th>\n",
       "      <td>I0006659</td>\n",
       "      <td>Rao A P</td>\n",
       "      <td>csi00006659@cw-india.org</td>\n",
       "      <td>0.0</td>\n",
       "      <td>S2, ramakrishna 47 Kandasamy Street, Pallipatt...</td>\n",
       "      <td>Chennai</td>\n",
       "      <td>600113</td>\n",
       "    </tr>\n",
       "    <tr>\n",
       "      <th>132</th>\n",
       "      <td>I0060677</td>\n",
       "      <td>K Karukkuvel Rajan</td>\n",
       "      <td>csi00060677@cw-india.org</td>\n",
       "      <td>0.0</td>\n",
       "      <td>4/49, Indira Street Varadarajpuram,ponnamalari</td>\n",
       "      <td>Kanchipuram</td>\n",
       "      <td>600056</td>\n",
       "    </tr>\n",
       "  </tbody>\n",
       "</table>\n",
       "<p>133 rows × 7 columns</p>\n",
       "</div>"
      ],
      "text/plain": [
       "    CSI Member Id                               Name  \\\n",
       "SNo                                                    \n",
       "0        I0001992        Venkataraman R Venkataraman   \n",
       "1        I0002142        Ramachandran V Ramachandran   \n",
       "2        I0005576  Balasubramanian K Balasubramanian   \n",
       "3        I0007199          Venugopalan G Venugopalan   \n",
       "4        I0014058  Balasubramanian N Balasubramanian   \n",
       "..            ...                                ...   \n",
       "128      I0019275  Ramasubramanian V Ramasubramanian   \n",
       "129      I0004345            Giridharan R Giridharan   \n",
       "130      I0003081              Devarajan S Devarajan   \n",
       "131      I0006659                            Rao A P   \n",
       "132      I0060677                 K Karukkuvel Rajan   \n",
       "\n",
       "                     Email Id  Phone  \\\n",
       "SNo                                    \n",
       "0    csi00001992@cw-india.org    0.0   \n",
       "1    csi00002142@cw-india.org    0.0   \n",
       "2    csi00005576@cw-india.org    0.0   \n",
       "3    csi00007199@cw-india.org    0.0   \n",
       "4    csi00014058@cw-india.org    0.0   \n",
       "..                        ...    ...   \n",
       "128  csi00019275@cw-india.org    0.0   \n",
       "129  csi00004345@cw-india.org    0.0   \n",
       "130  csi00003081@cw-india.org    0.0   \n",
       "131  csi00006659@cw-india.org    0.0   \n",
       "132  csi00060677@cw-india.org    0.0   \n",
       "\n",
       "                                               Address         City  Pincode  \n",
       "SNo                                                                           \n",
       "0    Plot 4  Street 3 South Sector New Colony ,adam...  Kanchipuram   600088  \n",
       "1                        19, Venkatesan Street T Nagar      Chennai   600017  \n",
       "2    Director Akshay Business Services P Ltd 33 Fir...      Chennai   600020  \n",
       "3                      1a Mahalakshmi St East Tambaram  Kanchipuram   600059  \n",
       "4     23/6 Kamal Apartments Ist Cross Street R A Puram      Chennai   600028  \n",
       "..                                                 ...          ...      ...  \n",
       "128      Flat 38 No 4 4th Main Road Gandhi Nagar Adyar      Chennai   600020  \n",
       "129  Block No.8 , Flat No.9 , Second Floor,brindava...   Tiruvallur   600062  \n",
       "130            3 Park Avenue K P Puram Green Ways Road      Chennai   600028  \n",
       "131  S2, ramakrishna 47 Kandasamy Street, Pallipatt...      Chennai   600113  \n",
       "132     4/49, Indira Street Varadarajpuram,ponnamalari  Kanchipuram   600056  \n",
       "\n",
       "[133 rows x 7 columns]"
      ]
     },
     "execution_count": 8,
     "metadata": {},
     "output_type": "execute_result"
    }
   ],
   "source": [
    "data_df"
   ]
  },
  {
   "cell_type": "code",
   "execution_count": 9,
   "id": "9a7072ea",
   "metadata": {},
   "outputs": [
    {
     "data": {
      "text/plain": [
       "Index(['CSI Member Id', 'Name', 'Email Id', 'Phone', 'Address', 'City',\n",
       "       'Pincode'],\n",
       "      dtype='object')"
      ]
     },
     "execution_count": 9,
     "metadata": {},
     "output_type": "execute_result"
    }
   ],
   "source": [
    "data_df.columns"
   ]
  },
  {
   "cell_type": "code",
   "execution_count": 10,
   "id": "d74b18c2",
   "metadata": {},
   "outputs": [
    {
     "data": {
      "text/plain": [
       "[(('CSI Member Id', 'I0001992'),\n",
       "  ('Name', 'Venkataraman R Venkataraman'),\n",
       "  ('Email Id', 'csi00001992@cw-india.org'),\n",
       "  ('Phone', 0.0),\n",
       "  ('Address', 'Plot 4  Street 3 South Sector New Colony ,adambakkam'),\n",
       "  ('City', 'Kanchipuram'),\n",
       "  ('Pincode', 600088))]"
      ]
     },
     "execution_count": 10,
     "metadata": {},
     "output_type": "execute_result"
    }
   ],
   "source": [
    "test_list =  [(('CSI Member Id', data_df.loc[0, 'CSI Member Id']),\\\n",
    "              ('Name', data_df.loc[0, 'Name']),\\\n",
    "               ('Email Id', data_df.loc[0, 'Email Id']),\\\n",
    "               ('Phone', data_df.loc[0, 'Phone']),\\\n",
    "               ('Address', data_df.loc[0, 'Address']),\\\n",
    "               ('City', data_df.loc[0, 'City']),\\\n",
    "               ('Pincode', data_df.loc[0, 'Pincode']))]\n",
    "test_list"
   ]
  },
  {
   "cell_type": "code",
   "execution_count": 11,
   "id": "c3a8540c",
   "metadata": {},
   "outputs": [],
   "source": [
    "os.chdir('D:/CSI/Members/Output')"
   ]
  },
  {
   "cell_type": "markdown",
   "id": "0e2949a0",
   "metadata": {},
   "source": [
    "###\n",
    "# Table data in a form of list\n",
    "###\n",
    "dataList = [[('MemberCode', 'I0001992'),\\\n",
    "        ('FullName', 'Venkataraman R'),\\\n",
    "        ('emailAddress', ' '),\\\n",
    "        ('Phone Number', '0'),\\\n",
    "        ('Address', 'Plot 4  Street 3 South Sector New Colony ,Adambakkam'),\\\n",
    "        ('CityName', 'Kanchipuram'),\\\n",
    "        ('PinCode', '600088')],\n",
    "       [('MemberCode', 'I0002142'),\\\n",
    "        ('FullName', 'Ramachandran V'),\\\n",
    "        ('emailAddress', ' '),\\\n",
    "        ('Phone Number', '0'),\\\n",
    "        ('Address', '19, Venkatesan Street T Nagar'),\\\n",
    "        ('CityName', 'Chennai'),\\\n",
    "        ('PinCode', '600017')]\n",
    "       ]"
   ]
  },
  {
   "cell_type": "code",
   "execution_count": 12,
   "id": "0da7097f",
   "metadata": {},
   "outputs": [
    {
     "name": "stdout",
     "output_type": "stream",
     "text": [
      "Date: 10-05-2022\n"
     ]
    }
   ],
   "source": [
    "dtd  =  'Date: ' + str(datetime.now().strftime('%d-%m-%Y'))\n",
    "print(dtd)"
   ]
  },
  {
   "cell_type": "code",
   "execution_count": 13,
   "id": "00a3efb0",
   "metadata": {},
   "outputs": [],
   "source": [
    "###\n",
    "# Create an instance of a word document\n",
    "###\n",
    "doc  =  docx.Document()"
   ]
  },
  {
   "cell_type": "code",
   "execution_count": 14,
   "id": "427cf79c",
   "metadata": {},
   "outputs": [],
   "source": [
    "for l  in  range(size):\n",
    "    data =  (('CSI Member Id', data_df.loc[l, 'CSI Member Id']),\\\n",
    "              ('Name', data_df.loc[l, 'Name']),\\\n",
    "               ('Email Id', data_df.loc[l, 'Email Id']),\\\n",
    "               ('Phone', data_df.loc[l, 'Phone']),\\\n",
    "               ('Address', data_df.loc[l, 'Address']),\\\n",
    "               ('District / City', data_df.loc[l, 'City']),\\\n",
    "               ('Pincode', data_df.loc[l, 'Pincode']))\n",
    "    ###\n",
    "    # Adding heading in the first row of the table \n",
    "    ###\n",
    "    doc.add_heading('Confirmation of your contact details', 0) \n",
    "    ### \n",
    "    # Adding a paragraph\n",
    "    ###        \n",
    "    doc.add_paragraph(dtd) \n",
    "    doc.add_heading('\\nDear CSI Member', 3)\n",
    "    doc.add_paragraph('\\nGreetings from CSI Chennai Chapter!')    \n",
    "    doc.add_paragraph('Your contact details as per our records are given below:')\n",
    "\n",
    "    # Creating a table object\n",
    "    ###\n",
    "    table  = doc.add_table(rows = 1, cols = 2)\n",
    "    # Add a Title to the document\n",
    "    row               =  table.rows[0].cells\n",
    "    row[0].text       = 'Column'\n",
    "    row[1].text       = 'Details'\n",
    "    ###\n",
    "    for idx, txt in data:\n",
    "        ###\n",
    "        # Adding a row and then adding data in it\n",
    "        ###\n",
    "        row          =  table.add_row().cells\n",
    "        row[0].text  =  idx\n",
    "        row[1].text  =  str(txt)\n",
    "        ###\n",
    "        \n",
    "    doc.add_paragraph('\\n\\nPlease confirm if they are correct. If they are incorrect or changed,please send email us at info@csichennai.org with your Membership Id and the correct details.\\n\\n')\n",
    "    doc.add_paragraph('\\n\\nWarm regards')  \n",
    "    doc.add_paragraph('TV Kamalak Kannan, Chair, CSI Chennai Chapter\\n')\n",
    "    doc.add_paragraph('\\n\\nThis is a computer generated document requiring no signature')\n",
    "    # Adding style to a table\n",
    "    ###\n",
    "    table.style   =  'Light Grid'\n",
    "    # Adding a page break\n",
    "    doc.add_page_break()"
   ]
  },
  {
   "cell_type": "code",
   "execution_count": 15,
   "id": "cc648f38",
   "metadata": {},
   "outputs": [],
   "source": [
    "###\n",
    "# Now save the document to a location\n",
    "###\n",
    "output_file_name =  'undelivered_csi-member-details' + str(datetime.now().strftime('%Y_%m_%d_%H_%M_%S')) + '.docx'\n",
    "doc.save(output_file_name)\n",
    "###\n",
    "# END\n",
    "###"
   ]
  }
 ],
 "metadata": {
  "kernelspec": {
   "display_name": "Python 3",
   "language": "python",
   "name": "python3"
  },
  "language_info": {
   "codemirror_mode": {
    "name": "ipython",
    "version": 3
   },
   "file_extension": ".py",
   "mimetype": "text/x-python",
   "name": "python",
   "nbconvert_exporter": "python",
   "pygments_lexer": "ipython3",
   "version": "3.8.8"
  }
 },
 "nbformat": 4,
 "nbformat_minor": 5
}
