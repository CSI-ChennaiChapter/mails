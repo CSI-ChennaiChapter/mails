{
 "cells": [
  {
   "cell_type": "code",
   "execution_count": 1,
   "id": "9200405a",
   "metadata": {},
   "outputs": [],
   "source": [
    "import  os\n",
    "\n",
    "folder  =   r'F:\\CSI\\2022-23\\Members\\Data'\n",
    "os.chdir(folder)"
   ]
  },
  {
   "cell_type": "code",
   "execution_count": 10,
   "id": "4ec4f365",
   "metadata": {},
   "outputs": [],
   "source": [
    "full_file            =   'Members_csi-mds_members.csv'\n",
    "confirmed_id_file    =   'csi-member-data-updated-2022_06_26.csv'\n",
    "bounced_id_file      =   'Bounced Emails 12th June 22 - Sheet1.csv'\n",
    "master_HQ            =   'Chennai.xlsx'"
   ]
  },
  {
   "cell_type": "code",
   "execution_count": 3,
   "id": "60389c7a",
   "metadata": {},
   "outputs": [],
   "source": [
    "import     pandas    as   pd\n",
    "import     numpy     as   np"
   ]
  },
  {
   "cell_type": "code",
   "execution_count": 25,
   "id": "7476a7d5",
   "metadata": {},
   "outputs": [],
   "source": [
    "import time\n",
    "from    datetime   import datetime\n",
    "from    datetime   import timedelta"
   ]
  },
  {
   "cell_type": "code",
   "execution_count": 14,
   "id": "58fef2f0",
   "metadata": {},
   "outputs": [
    {
     "name": "stdout",
     "output_type": "stream",
     "text": [
      "\n",
      "Shape (960, 17)\n",
      "\n",
      "Columns Index(['MemberCode', 'First Name', 'Middle Name', 'Last Name', 'FullName',\n",
      "       'EffectiveDate', 'Street1', 'street2', 'CityName', 'ChapterName',\n",
      "       'PinCodes', 'AreaName', 'State', 'Regions', 'emailAddress',\n",
      "       'secondary email-id', 'ContactDetails'],\n",
      "      dtype='object')\n"
     ]
    }
   ],
   "source": [
    "df_master      =     pd.read_excel(master_HQ, sheet_name = 'life')\n",
    "print(\"\\nShape {}\".format(df_master.shape))\n",
    "print(\"\\nColumns {}\".format(df_master.columns))"
   ]
  },
  {
   "cell_type": "code",
   "execution_count": 4,
   "id": "d18da98b",
   "metadata": {},
   "outputs": [
    {
     "name": "stdout",
     "output_type": "stream",
     "text": [
      "\n",
      "Shape (880, 5)\n",
      "\n",
      "Columns Index(['Group Email [Required]', 'Member Email', 'Member Name', 'Member Role',\n",
      "       'Member Type'],\n",
      "      dtype='object')\n"
     ]
    }
   ],
   "source": [
    "df1      =     pd.read_csv(full_file)\n",
    "print(\"\\nShape {}\".format(df1.shape))\n",
    "print(\"\\nColumns {}\".format(df1.columns))"
   ]
  },
  {
   "cell_type": "code",
   "execution_count": 6,
   "id": "47019fab",
   "metadata": {},
   "outputs": [
    {
     "name": "stdout",
     "output_type": "stream",
     "text": [
      "\n",
      "Shape (178, 7)\n",
      "\n",
      "Columns Index(['MemberCode', 'FullName', 'emailAddress', 'ContactDetails', 'Address',\n",
      "       'CityName', 'PinCodes'],\n",
      "      dtype='object')\n"
     ]
    }
   ],
   "source": [
    "df2      =     pd.read_csv(bounced_id_file)\n",
    "print(\"\\nShape {}\".format(df2.shape))\n",
    "print(\"\\nColumns {}\".format(df2.columns))"
   ]
  },
  {
   "cell_type": "code",
   "execution_count": 7,
   "id": "839befce",
   "metadata": {},
   "outputs": [
    {
     "name": "stdout",
     "output_type": "stream",
     "text": [
      "\n",
      "Shape (230, 12)\n",
      "\n",
      "Columns Index(['Timestamp', 'CSI Membership Number', 'Name', 'Address', 'City',\n",
      "       'Pincode', 'Email ID', 'Alternate email id', 'Phone number',\n",
      "       'Do you confirm the contact details pertaining to you are correct?',\n",
      "       'Date of notification to CSI HQ', 'Date of Response from CSI HQ'],\n",
      "      dtype='object')\n"
     ]
    }
   ],
   "source": [
    "df3     =     pd.read_csv(confirmed_id_file)\n",
    "print(\"\\nShape {}\".format(df3.shape))\n",
    "print(\"\\nColumns {}\".format(df3.columns))"
   ]
  },
  {
   "cell_type": "code",
   "execution_count": 8,
   "id": "30017119",
   "metadata": {},
   "outputs": [
    {
     "name": "stdout",
     "output_type": "stream",
     "text": [
      "178\n"
     ]
    }
   ],
   "source": [
    "Bounced_ID_list   =    df2['MemberCode']\n",
    "print(len(Bounced_ID_list))"
   ]
  },
  {
   "cell_type": "code",
   "execution_count": 9,
   "id": "7843aa48",
   "metadata": {},
   "outputs": [
    {
     "name": "stdout",
     "output_type": "stream",
     "text": [
      "880\n"
     ]
    }
   ],
   "source": [
    "CSIHQ_List         =   df1['Member Email']\n",
    "print(len(CSIHQ_List))"
   ]
  },
  {
   "cell_type": "code",
   "execution_count": 22,
   "id": "c14bfa34",
   "metadata": {},
   "outputs": [
    {
     "name": "stdout",
     "output_type": "stream",
     "text": [
      "230\n"
     ]
    }
   ],
   "source": [
    "confirmed_List         =   df3['CSI Membership Number']\n",
    "print(len(confirmed_List))"
   ]
  },
  {
   "cell_type": "code",
   "execution_count": 15,
   "id": "b61869c5",
   "metadata": {},
   "outputs": [],
   "source": [
    "df_CSIHQ =  df_master[df_master['emailAddress'].isin(CSIHQ_List)]"
   ]
  },
  {
   "cell_type": "code",
   "execution_count": 16,
   "id": "b54faa7b",
   "metadata": {},
   "outputs": [
    {
     "data": {
      "text/plain": [
       "(756, 17)"
      ]
     },
     "execution_count": 16,
     "metadata": {},
     "output_type": "execute_result"
    }
   ],
   "source": [
    "df_CSIHQ.shape"
   ]
  },
  {
   "cell_type": "code",
   "execution_count": 17,
   "id": "0c01c1fe",
   "metadata": {},
   "outputs": [
    {
     "data": {
      "text/html": [
       "<div>\n",
       "<style scoped>\n",
       "    .dataframe tbody tr th:only-of-type {\n",
       "        vertical-align: middle;\n",
       "    }\n",
       "\n",
       "    .dataframe tbody tr th {\n",
       "        vertical-align: top;\n",
       "    }\n",
       "\n",
       "    .dataframe thead th {\n",
       "        text-align: right;\n",
       "    }\n",
       "</style>\n",
       "<table border=\"1\" class=\"dataframe\">\n",
       "  <thead>\n",
       "    <tr style=\"text-align: right;\">\n",
       "      <th></th>\n",
       "      <th>MemberCode</th>\n",
       "      <th>First Name</th>\n",
       "      <th>Middle Name</th>\n",
       "      <th>Last Name</th>\n",
       "      <th>FullName</th>\n",
       "      <th>EffectiveDate</th>\n",
       "      <th>Street1</th>\n",
       "      <th>street2</th>\n",
       "      <th>CityName</th>\n",
       "      <th>ChapterName</th>\n",
       "      <th>PinCodes</th>\n",
       "      <th>AreaName</th>\n",
       "      <th>State</th>\n",
       "      <th>Regions</th>\n",
       "      <th>emailAddress</th>\n",
       "      <th>secondary email-id</th>\n",
       "      <th>ContactDetails</th>\n",
       "    </tr>\n",
       "  </thead>\n",
       "  <tbody>\n",
       "    <tr>\n",
       "      <th>0</th>\n",
       "      <td>I1203637</td>\n",
       "      <td>Akella</td>\n",
       "      <td>Venkatasurya</td>\n",
       "      <td>Prabhakar</td>\n",
       "      <td>Akella Venkatasurya Prabhakar</td>\n",
       "      <td>2012-12-10 00:00:00</td>\n",
       "      <td>5/20, Sri Sumathinath Residency Extn., Nanmang...</td>\n",
       "      <td>NaN</td>\n",
       "      <td>Chennai</td>\n",
       "      <td>Chennai</td>\n",
       "      <td>600117</td>\n",
       "      <td>NaN</td>\n",
       "      <td>TAMIL NADU</td>\n",
       "      <td>Region7</td>\n",
       "      <td>avsprabhakar@gmail.com</td>\n",
       "      <td>NaN</td>\n",
       "      <td>9840974950</td>\n",
       "    </tr>\n",
       "    <tr>\n",
       "      <th>1</th>\n",
       "      <td>I0148983</td>\n",
       "      <td>Padmaveni</td>\n",
       "      <td>NaN</td>\n",
       "      <td>Padmaveni</td>\n",
       "      <td>Padmaveni  Padmaveni</td>\n",
       "      <td>2007-03-29 00:00:00</td>\n",
       "      <td>Asso Professor , Hindustan Institute of Techno...</td>\n",
       "      <td>1, Rajiv Gandhi Salai, Old Mahabalipuram Road,...</td>\n",
       "      <td>Chennai</td>\n",
       "      <td>Chennai</td>\n",
       "      <td>603103</td>\n",
       "      <td>Kelambakam,</td>\n",
       "      <td>TAMIL NADU</td>\n",
       "      <td>Region7</td>\n",
       "      <td>kpadmaveni@hindustanuniv.ac.in</td>\n",
       "      <td>p_veni@yahoo.co.uk</td>\n",
       "      <td>9962544590</td>\n",
       "    </tr>\n",
       "    <tr>\n",
       "      <th>2</th>\n",
       "      <td>I0175428</td>\n",
       "      <td>K</td>\n",
       "      <td>K</td>\n",
       "      <td>Raman</td>\n",
       "      <td>K K Raman</td>\n",
       "      <td>2009-10-10 00:00:00</td>\n",
       "      <td>1B-1 KG Green Meadows Andal Nagar Adambakkam</td>\n",
       "      <td>NaN</td>\n",
       "      <td>Adambakkam</td>\n",
       "      <td>Chennai</td>\n",
       "      <td>600088</td>\n",
       "      <td>Andal Nagar</td>\n",
       "      <td>TAMIL NADU</td>\n",
       "      <td>Region7</td>\n",
       "      <td>ramankk@yahoo.com</td>\n",
       "      <td>NaN</td>\n",
       "      <td>9611123136</td>\n",
       "    </tr>\n",
       "    <tr>\n",
       "      <th>3</th>\n",
       "      <td>I1500982</td>\n",
       "      <td>Maruthuperumal</td>\n",
       "      <td>NaN</td>\n",
       "      <td>S</td>\n",
       "      <td>Maruthuperumal  S</td>\n",
       "      <td>2014-02-21 00:00:00</td>\n",
       "      <td>Block 10, 1-D, Jains sundarbans</td>\n",
       "      <td>Guruswamy Road</td>\n",
       "      <td>Chennai</td>\n",
       "      <td>Chennai</td>\n",
       "      <td>600095</td>\n",
       "      <td>West Mogappair</td>\n",
       "      <td>TAMIL NADU</td>\n",
       "      <td>Region7</td>\n",
       "      <td>maruthumail@gmail.com</td>\n",
       "      <td>NaN</td>\n",
       "      <td>9848772088</td>\n",
       "    </tr>\n",
       "    <tr>\n",
       "      <th>4</th>\n",
       "      <td>I1500983</td>\n",
       "      <td>Roslinenesa</td>\n",
       "      <td>Kumari</td>\n",
       "      <td>G</td>\n",
       "      <td>Roslinenesa Kumari G</td>\n",
       "      <td>2014-02-21 00:00:00</td>\n",
       "      <td>Block 10, 1-D, Jains sundarbans</td>\n",
       "      <td>Guruswamy Road</td>\n",
       "      <td>Chennai</td>\n",
       "      <td>Chennai</td>\n",
       "      <td>600095</td>\n",
       "      <td>West Mogappair</td>\n",
       "      <td>TAMIL NADU</td>\n",
       "      <td>Region7</td>\n",
       "      <td>rosemaruthu@gmail.com</td>\n",
       "      <td>NaN</td>\n",
       "      <td>9025555203</td>\n",
       "    </tr>\n",
       "  </tbody>\n",
       "</table>\n",
       "</div>"
      ],
      "text/plain": [
       "  MemberCode      First Name   Middle Name  Last Name  \\\n",
       "0   I1203637          Akella  Venkatasurya  Prabhakar   \n",
       "1   I0148983       Padmaveni           NaN  Padmaveni   \n",
       "2   I0175428               K             K      Raman   \n",
       "3   I1500982  Maruthuperumal           NaN          S   \n",
       "4   I1500983     Roslinenesa        Kumari          G   \n",
       "\n",
       "                        FullName        EffectiveDate  \\\n",
       "0  Akella Venkatasurya Prabhakar  2012-12-10 00:00:00   \n",
       "1           Padmaveni  Padmaveni  2007-03-29 00:00:00   \n",
       "2                      K K Raman  2009-10-10 00:00:00   \n",
       "3              Maruthuperumal  S  2014-02-21 00:00:00   \n",
       "4           Roslinenesa Kumari G  2014-02-21 00:00:00   \n",
       "\n",
       "                                             Street1  \\\n",
       "0  5/20, Sri Sumathinath Residency Extn., Nanmang...   \n",
       "1  Asso Professor , Hindustan Institute of Techno...   \n",
       "2       1B-1 KG Green Meadows Andal Nagar Adambakkam   \n",
       "3                    Block 10, 1-D, Jains sundarbans   \n",
       "4                    Block 10, 1-D, Jains sundarbans   \n",
       "\n",
       "                                             street2    CityName ChapterName  \\\n",
       "0                                                NaN     Chennai     Chennai   \n",
       "1  1, Rajiv Gandhi Salai, Old Mahabalipuram Road,...     Chennai     Chennai   \n",
       "2                                                NaN  Adambakkam     Chennai   \n",
       "3                                     Guruswamy Road     Chennai     Chennai   \n",
       "4                                     Guruswamy Road     Chennai     Chennai   \n",
       "\n",
       "  PinCodes        AreaName       State  Regions  \\\n",
       "0   600117             NaN  TAMIL NADU  Region7   \n",
       "1   603103     Kelambakam,  TAMIL NADU  Region7   \n",
       "2   600088     Andal Nagar  TAMIL NADU  Region7   \n",
       "3   600095  West Mogappair  TAMIL NADU  Region7   \n",
       "4   600095  West Mogappair  TAMIL NADU  Region7   \n",
       "\n",
       "                     emailAddress  secondary email-id ContactDetails  \n",
       "0          avsprabhakar@gmail.com                 NaN     9840974950  \n",
       "1  kpadmaveni@hindustanuniv.ac.in  p_veni@yahoo.co.uk     9962544590  \n",
       "2               ramankk@yahoo.com                 NaN     9611123136  \n",
       "3           maruthumail@gmail.com                 NaN     9848772088  \n",
       "4           rosemaruthu@gmail.com                 NaN     9025555203  "
      ]
     },
     "execution_count": 17,
     "metadata": {},
     "output_type": "execute_result"
    }
   ],
   "source": [
    "df_CSIHQ.head()"
   ]
  },
  {
   "cell_type": "markdown",
   "id": "8d370646",
   "metadata": {},
   "source": [
    "### Remove the Member ids whose email id is bouncing"
   ]
  },
  {
   "cell_type": "code",
   "execution_count": 20,
   "id": "b4de1c42",
   "metadata": {},
   "outputs": [],
   "source": [
    "df_valid           =     df_CSIHQ[~df_CSIHQ['MemberCode'].isin(Bounced_ID_list)]"
   ]
  },
  {
   "cell_type": "code",
   "execution_count": 21,
   "id": "fe9c055d",
   "metadata": {},
   "outputs": [
    {
     "name": "stdout",
     "output_type": "stream",
     "text": [
      "\n",
      "Valid email dataframe Shape (588, 17)\n"
     ]
    }
   ],
   "source": [
    "print(\"\\nValid email dataframe Shape {}\".format(df_valid.shape))"
   ]
  },
  {
   "cell_type": "markdown",
   "id": "d80e24d8",
   "metadata": {},
   "source": [
    "### Get the data of people who did not confirm"
   ]
  },
  {
   "cell_type": "code",
   "execution_count": 23,
   "id": "8e65bca7",
   "metadata": {},
   "outputs": [],
   "source": [
    "df_unconfirmed           =     df_valid[~df_valid['MemberCode'].isin(confirmed_List)]"
   ]
  },
  {
   "cell_type": "code",
   "execution_count": 24,
   "id": "db5c85fe",
   "metadata": {},
   "outputs": [
    {
     "name": "stdout",
     "output_type": "stream",
     "text": [
      "\n",
      "Valid unconfirmed  members dataframe Shape (426, 17)\n"
     ]
    }
   ],
   "source": [
    "print(\"\\nValid unconfirmed  members dataframe Shape {}\".format(df_unconfirmed.shape))"
   ]
  },
  {
   "cell_type": "code",
   "execution_count": 28,
   "id": "abe67bf8",
   "metadata": {},
   "outputs": [],
   "source": [
    "output_file_name =  './../Output/Unconfirmed-valid-members-' + str(datetime.now().strftime('%Y_%m_%d_%H_%M_%S')) + '.csv'\n",
    "df_unconfirmed.to_csv(output_file_name, index = False)"
   ]
  }
 ],
 "metadata": {
  "kernelspec": {
   "display_name": "Python 3 (ipykernel)",
   "language": "python",
   "name": "python3"
  },
  "language_info": {
   "codemirror_mode": {
    "name": "ipython",
    "version": 3
   },
   "file_extension": ".py",
   "mimetype": "text/x-python",
   "name": "python",
   "nbconvert_exporter": "python",
   "pygments_lexer": "ipython3",
   "version": "3.9.12"
  }
 },
 "nbformat": 4,
 "nbformat_minor": 5
}
