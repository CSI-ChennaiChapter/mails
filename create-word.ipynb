{
 "cells": [
  {
   "cell_type": "markdown",
   "id": "31caf9d6",
   "metadata": {},
   "source": [
    "### Create a doc file using python"
   ]
  },
  {
   "cell_type": "markdown",
   "id": "40eee8ab",
   "metadata": {},
   "source": [
    "! pip install python-docx"
   ]
  },
  {
   "cell_type": "code",
   "execution_count": 1,
   "id": "c3a8540c",
   "metadata": {},
   "outputs": [],
   "source": [
    "import os\n",
    "os.chdir('D:/CSI/Members/Output')"
   ]
  },
  {
   "cell_type": "code",
   "execution_count": 2,
   "id": "63f6b255",
   "metadata": {},
   "outputs": [
    {
     "data": {
      "text/plain": [
       "<docx.text.paragraph.Paragraph at 0x210176688b0>"
      ]
     },
     "execution_count": 2,
     "metadata": {},
     "output_type": "execute_result"
    }
   ],
   "source": [
    "import docx\n",
    "\n",
    "###\n",
    "# Create an instance of a word document\n",
    "###\n",
    "doc  =  docx.Document()\n",
    "\n",
    "###\n",
    "# Add a Title to the document\n",
    "###\n",
    "doc.add_heading('GeeksForGeeks', 0)\n"
   ]
  },
  {
   "cell_type": "code",
   "execution_count": 3,
   "id": "bb925d26",
   "metadata": {},
   "outputs": [],
   "source": [
    "###\n",
    "# Creating a table object\n",
    "###\n",
    "table  = doc.add_table(rows = 1, cols =2)\n"
   ]
  },
  {
   "cell_type": "code",
   "execution_count": 4,
   "id": "63f93272",
   "metadata": {},
   "outputs": [],
   "source": [
    "###\n",
    "# Table data in a form of list\n",
    "###\n",
    "data = ((1, 'Geek 1'), (2,'Geek 2'), (3, 'Geek 3'))\n"
   ]
  },
  {
   "cell_type": "code",
   "execution_count": 5,
   "id": "9f0b4908",
   "metadata": {},
   "outputs": [],
   "source": [
    "###\n",
    "# Adding heading in the first row of the table \n",
    "###\n",
    "row               =  table.rows[0].cells\n",
    "row[0].text       = 'Id'\n",
    "row[1].text       = 'Name'"
   ]
  },
  {
   "cell_type": "code",
   "execution_count": 6,
   "id": "652e030c",
   "metadata": {},
   "outputs": [],
   "source": [
    "###\n",
    "# Adding data from the list to the table\n",
    "###\n",
    "for id, name in data:\n",
    "    ###\n",
    "    # Adding a row and then adding data in it\n",
    "    ###\n",
    "    row          = table.add_row().cells\n",
    "    row[0].text  =  str(id) # Converting id to string as table can only take string input\n",
    "    row[1].text  = name"
   ]
  },
  {
   "cell_type": "code",
   "execution_count": 7,
   "id": "6ceac7ba",
   "metadata": {},
   "outputs": [],
   "source": [
    "###\n",
    "# Adding style to a table\n",
    "###\n",
    "table.style   =  'Light Grid'"
   ]
  },
  {
   "cell_type": "code",
   "execution_count": 8,
   "id": "cc648f38",
   "metadata": {},
   "outputs": [],
   "source": [
    "###\n",
    "# Now save the document to a location\n",
    "###\n",
    "doc.save('gfg.docx')\n",
    "###\n",
    "# END\n",
    "###"
   ]
  }
 ],
 "metadata": {
  "kernelspec": {
   "display_name": "Python 3",
   "language": "python",
   "name": "python3"
  },
  "language_info": {
   "codemirror_mode": {
    "name": "ipython",
    "version": 3
   },
   "file_extension": ".py",
   "mimetype": "text/x-python",
   "name": "python",
   "nbconvert_exporter": "python",
   "pygments_lexer": "ipython3",
   "version": "3.8.8"
  }
 },
 "nbformat": 4,
 "nbformat_minor": 5
}
