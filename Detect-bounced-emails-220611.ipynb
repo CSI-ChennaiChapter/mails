{
 "cells": [
  {
   "cell_type": "code",
   "execution_count": 30,
   "id": "8d3bef8c",
   "metadata": {},
   "outputs": [],
   "source": [
    "# ! pip install imapclient\n",
    "import    imapclient, imaplib\n",
    "import    pandas    as   pd\n",
    "from      datetime  import datetime\n",
    "import    getpass\n",
    "import    re\n",
    "import    email\n",
    "from      pprint     import pprint as pp"
   ]
  },
  {
   "cell_type": "code",
   "execution_count": 31,
   "id": "9bcac858",
   "metadata": {},
   "outputs": [],
   "source": [
    "def get_memberid(df, emailid):\n",
    "    mid =  list(df.loc[df['emailAddress'] == emailid, 'MemberCode'])[0]\n",
    "    print(mid)\n",
    "    return mid"
   ]
  },
  {
   "cell_type": "code",
   "execution_count": 32,
   "id": "c6379973",
   "metadata": {},
   "outputs": [],
   "source": [
    "Member_List   =  ['svraaman_1954@yahoo.co.in','stejasvi@satyam.net.in','arm@sancm.csir.res.in','murugan.k@ge.com',\\\n",
    "                  'balipara@dataone.in','pvhs@satyam.net.in','psarathi@mailcity.com','vijisbi@satyam.net.in',\\\n",
    "                  'amln@rediffmail.com','rv.cmp@dcochennai.com','seshadri1101@yahoo.com','venkat_gde@yahoo.com',\\\n",
    "                  'mani8485@yahoo.com','k_kathirvel@yahoo.com','m.s.raja@sify.com','amsundrs@vsnl.com',\\\n",
    "                  'sharmavp@nda.vsnl.net.in','chandramouli24@vsnl.com','kamala@iitm.ernet.in','marthg@eth.net',\\\n",
    "                  'phanindra.chowdary@sisl.co.in','sivasubramaniam@vsnl.com','rangams@hotmail.com','aucse@satyam.net.in',\\\n",
    "                  'kks@sundaraminfotech.in','krishkal@ieee.org','rams@sercm.csir.res.in',\\\n",
    "                  'natarajan_parthasarathy@rediffmail.com','sriniven24@yahoo.co.in','krlakshmi@vsnl.net','shajissc@yahoo.com',\\\n",
    "                  'bhaskar00@yahoo.com','kannan.ganesan@fisglobal.com','thirugnana.sambandam@citicorp.com',\\\n",
    "                  'kguna@sercm.csir.res.in','easwara@unimad.ernet.in','aghilaa@yahoo.com','rameshbabugt@in.ibm.com',\\\n",
    "                  'dctomar@yahoo.com','lok@maars.soft.com','ksrao18@yahoo.co.in','dr.sai@consim.com','srinig@vsnl.com',\\\n",
    "                  'gdmtidco@md3.vsnl.net.in','uninet@md2.vsnl.net.in','abraham@sihomes.com','apparaot@vsnl.com',\\\n",
    "                  'shunmugamk@sify.com','setc@vsnl.com','avmvkjk@eth.net','pnpn@sify.com','cthiru@lyws.com',\\\n",
    "                  'mnsanjayakumar@gmail.com','arulsteel@yahoo.com','jagannathan22@rediffmail.com',\\\n",
    "                  'jeevan.s@usa.net','ganesan_ns@yahoo.com','drravir@yahoo.com','pirathebad@rediffmail.com',\\\n",
    "                  'subbu@navoinfotech.com','drpesanky@hotmail.com','iisc@rediffmail.com','sank50@vsnl.net','veeer19@hotmail.com',\\\n",
    "                  'krsandy@email.com','parvathavarthini@mailcity.com','nsn17@msn.com','selva_vasan@yahoo.com',\\\n",
    "                  'jkarthika@ssnsomca.ac.in']"
   ]
  },
  {
   "cell_type": "code",
   "execution_count": 33,
   "id": "02a98c53",
   "metadata": {},
   "outputs": [
    {
     "data": {
      "text/plain": [
       "69"
      ]
     },
     "execution_count": 33,
     "metadata": {},
     "output_type": "execute_result"
    }
   ],
   "source": [
    "len(Member_List )"
   ]
  },
  {
   "cell_type": "code",
   "execution_count": 34,
   "id": "a473cb8e",
   "metadata": {},
   "outputs": [],
   "source": [
    "Member_List   +=   ['mohanas@ssnie.ac.in','ilayaraja_r@yahoo.com','b_bharathi@yahoo.com','rangasamykumar@rediffmail.com',\\\n",
    "                    'madras@go.com','po@alagappavarsity.org','ulagam@rediffmail.com','narasimhanpandian@yahoo.com',\\\n",
    "                    'rkollu@vsnl.com','rajasekharank@yahoo.com','maadhu@vsnl.com','vasanthiru@sify.com',\\\n",
    "                    'rajarajeswari_s@hotmail.com','sufelvin@yahoomail.com','kindu0882@yahoo.com','acusedk@yahoo.com',\\\n",
    "                    'd_v_sekhar@yahoo.co.in','spal_subaa@yahoo.co.in','rtramsuba@yahoo.com','vscseau@yahoo.co.in',\\\n",
    "                    'kskaucse@yahoo.co.in','akkdai@yahoo.com','nrk_trichy@yahoo.co.in','srbkiruba@yahoo.com',\\\n",
    "                    'saravanan_p007@yahoo.com','murugan1_mpt@yahoo.co.in','govind_autcse@yahoo.com','murugesh97@rediffmail.com',\\\n",
    "                    'abirami_sv2000@yahoo.co.in','meetrramesh@rediffmail.com','rsubanau@yahoo.co.in','barath777@yahoo.com',\\\n",
    "                    'drvkannam62@yahoo.com','margret_cse@karunya.edu','annadurai@sercm.csir.res.in','prkannan@msn.com',\\\n",
    "                    'rvittalraj@vsnl.com','digiterati99@vsnl.com','deraka@md3.vsnl.net.in','tiku@tn.nic.in','niwas@vsnl.com',\\\n",
    "                    'murali_v@chennai.tcs.co.in','tramanan@chennai.tcs.co.in','apparao@vsnl.com','vmaniayyar@yahoo.com']"
   ]
  },
  {
   "cell_type": "code",
   "execution_count": 35,
   "id": "692c3acc",
   "metadata": {},
   "outputs": [
    {
     "data": {
      "text/plain": [
       "114"
      ]
     },
     "execution_count": 35,
     "metadata": {},
     "output_type": "execute_result"
    }
   ],
   "source": [
    "len(Member_List )"
   ]
  },
  {
   "cell_type": "code",
   "execution_count": 36,
   "id": "f8854382",
   "metadata": {},
   "outputs": [
    {
     "data": {
      "text/plain": [
       "136"
      ]
     },
     "execution_count": 36,
     "metadata": {},
     "output_type": "execute_result"
    }
   ],
   "source": [
    "###   \n",
    "Member_List   +=   [ 'kkumar_moorthy@yahoo.com','ramana@amitysoft.com','mohan.v@polaris.co.in','gokul_krish@yahoo.co.in',\\\n",
    "                    'bharathylydia@yahoo.com','rambhadras@yahoo.com','sivanr@ieee.org','chitsbabu@yahoo.com',\\\n",
    "                    'sripriya_79@yahoo.com','ushaganesan79@yahoo.co.in','ranirajan100@rediffmail.com',\\\n",
    "                    'rajlaxmi_rv@yahoo.co.in','kavibm_balaji@yahoo.co.in','b_senthil2002@yahoo.co.in','meenakshi_rm@yahoo.com',\\\n",
    "                    'rajeshwarkj@hotmail.com','chins_dhaya@rediffmail.com','rrajamanickam@inautix.co.in','seethuvj@yahoo.com',\\\n",
    "                    'csiedums@vsnl.com','agst@sify.com','connect2sai@hathway.com'] \n",
    "len(Member_List )"
   ]
  },
  {
   "cell_type": "code",
   "execution_count": 37,
   "id": "d68436be",
   "metadata": {},
   "outputs": [
    {
     "data": {
      "text/plain": [
       "160"
      ]
     },
     "execution_count": 37,
     "metadata": {},
     "output_type": "execute_result"
    }
   ],
   "source": [
    "###\n",
    "Member_List   +=   ['ramayyas@vsnl.com','anitha_julian@yahoo.com','ktvasan@yahoo.com','ssenthilkumaran@lycos.com',\\\n",
    "                    'sankarammk@yahoo.com','jayabrabu@yahoo.co.in','retminraj@rediffmail.com','dicya.skrec@gmail.com',\\\n",
    "                    'jaibv2005@yahoo.com','subhash@springboard.net.in','subbarayan_srmuniv@yahoo.co.in','arajasekar@yahoo.com',\\\n",
    "                    'ramy49@vsnl.com','mohanta62007@rdiff.com','deivamani@cs.annauniv.edu','sam.hema@rediffmail.com',\\\n",
    "                    'sangeerani_devi@yahoo.co.in','thenv_it@yahoo.co.in','nashok81@yahoo.com','anushprey@gmail.com',\\\n",
    "                    'rkolintavadi@hotmail.com','umasuji_mail@yahoo.com','m_p_kumoorkarthi@yahoo.co.in','arjun@mowares.com']\n",
    "\n",
    "len(Member_List )"
   ]
  },
  {
   "cell_type": "code",
   "execution_count": 38,
   "id": "3e1e2634",
   "metadata": {},
   "outputs": [
    {
     "data": {
      "text/plain": [
       "181"
      ]
     },
     "execution_count": 38,
     "metadata": {},
     "output_type": "execute_result"
    }
   ],
   "source": [
    "###\n",
    "Member_List   +=   ['raguraman@hotmail.com','savarinarayan@yahoo.co.in','dsvjaudeen@gmail.com','sunil3mano@gmail.com',\\\n",
    "                    'saravanme@rediffmail.com','rajkumar@seed-india.in','godfreywinster@ieee.org','rc.karnick@sailrsp.co.in',\\\n",
    "                    'thiruani@yahoo.com','rengu_ranjan@yahoo.com','c_granam@yahoo.com','nmv_94@yahoomail.com','rital@vsnl.com',\\\n",
    "                    'info@indousabiz.com','murugabalili26@rediffmail.com','smuthmylagam@gmail.com','hipradeepsahoo@yahoo.com',\\\n",
    "                    'baski@annauniv.edu','thiru@fbtech.in','sakthi.gri@gmail.com','nagappan@vsn.com']\n",
    "    \n",
    "len(Member_List )"
   ]
  },
  {
   "cell_type": "code",
   "execution_count": 39,
   "id": "92822a30",
   "metadata": {},
   "outputs": [],
   "source": [
    "my_email       =   \"info@csichennai.org\"\n",
    "my_password    =   \"pcubkvgqdskfxclo\""
   ]
  },
  {
   "cell_type": "code",
   "execution_count": 40,
   "id": "d66f5b50",
   "metadata": {},
   "outputs": [],
   "source": [
    "from           imap_tools  import MailBox, AND\n",
    "import         datetime    as dt\n",
    "\n",
    "mailbox        =     MailBox('imap.gmail.com').login(my_email, my_password)\n",
    "email_df       =     pd.DataFrame()"
   ]
  },
  {
   "cell_type": "code",
   "execution_count": 41,
   "id": "62ab5615",
   "metadata": {},
   "outputs": [],
   "source": [
    "date_str       =    '24-05-2022'\n",
    "date_p         =    datetime.strptime(date_str, '%d-%m-%Y').date()"
   ]
  },
  {
   "cell_type": "code",
   "execution_count": 42,
   "id": "200781cb",
   "metadata": {},
   "outputs": [],
   "source": [
    "date_str_list       =    ['24-05-2022', '25-05-2022', '26-05-2022', '27-05-2022','28-05-2022', '29-05-2022',\\\n",
    "                         '30-05-2022', '31-05-2022','01-06-2022', '01-06-2022','02-06-2022','03-06-2022',\\\n",
    "                         '04-06-2022', '05-06-2022','06-06-2022','07-06-2022','08-06-2022', '09-06-2022','10-06-2022']\n",
    "\n",
    "for date_str in date_str_list:\n",
    "\n",
    "    date_p         =    datetime.strptime(date_str, '%d-%m-%Y').date()\n",
    "\n",
    "    with MailBox('imap.gmail.com').login(my_email, my_password) as mailbox:\n",
    "        for message in mailbox.fetch(criteria= AND(date = date_p, seen = True, from_= \"Mail Delivery Subsystem\")):\n",
    "            email_date       =    message.date_str         # str or None: '123'\n",
    "            email_cc         =    message.cc               # tuple: ('cc@mail.ru', )\n",
    "            email_bcc        =    message.bcc              # tuple: ('bcc@mail.ru', )\n",
    "            email_body       =    message.text\n",
    "            email_to_list    =     re.findall('[a-zA-Z0-9]\\S*@\\S*[a-zA-Z]', str(email_body))\n",
    "            email_to         =     ' '.join([str(x) for x in email_to_list]) \n",
    "            email_df1        =    pd.DataFrame({'Date' : email_date, 'To' : email_to}, index = [0])\n",
    "            email_df         =    email_df.append(email_df1)"
   ]
  },
  {
   "cell_type": "code",
   "execution_count": 43,
   "id": "97ac58a6",
   "metadata": {},
   "outputs": [
    {
     "data": {
      "text/html": [
       "<div>\n",
       "<style scoped>\n",
       "    .dataframe tbody tr th:only-of-type {\n",
       "        vertical-align: middle;\n",
       "    }\n",
       "\n",
       "    .dataframe tbody tr th {\n",
       "        vertical-align: top;\n",
       "    }\n",
       "\n",
       "    .dataframe thead th {\n",
       "        text-align: right;\n",
       "    }\n",
       "</style>\n",
       "<table border=\"1\" class=\"dataframe\">\n",
       "  <thead>\n",
       "    <tr style=\"text-align: right;\">\n",
       "      <th></th>\n",
       "      <th>0</th>\n",
       "      <th>0</th>\n",
       "      <th>0</th>\n",
       "      <th>0</th>\n",
       "      <th>0</th>\n",
       "      <th>0</th>\n",
       "      <th>0</th>\n",
       "      <th>0</th>\n",
       "      <th>0</th>\n",
       "      <th>0</th>\n",
       "    </tr>\n",
       "  </thead>\n",
       "  <tbody>\n",
       "    <tr>\n",
       "      <th>Date</th>\n",
       "      <td>Sat, 04 Jun 2022 00:00:44 -0700 (PDT)</td>\n",
       "      <td>Sat, 04 Jun 2022 01:29:13 -0700 (PDT)</td>\n",
       "      <td>Sat, 04 Jun 2022 23:06:17 -0700 (PDT)</td>\n",
       "      <td>Sat, 04 Jun 2022 23:42:36 -0700 (PDT)</td>\n",
       "      <td>Sun, 05 Jun 2022 00:53:33 -0700 (PDT)</td>\n",
       "      <td>Sun, 05 Jun 2022 01:26:08 -0700 (PDT)</td>\n",
       "      <td>Sun, 05 Jun 2022 02:58:56 -0700 (PDT)</td>\n",
       "      <td>Mon, 06 Jun 2022 01:01:05 -0700 (PDT)</td>\n",
       "      <td>Mon, 06 Jun 2022 01:57:18 -0700 (PDT)</td>\n",
       "      <td>Tue, 07 Jun 2022 00:47:27 -0700 (PDT)</td>\n",
       "    </tr>\n",
       "    <tr>\n",
       "      <th>To</th>\n",
       "      <td>sakthi.gri@gmail.com</td>\n",
       "      <td>info@indousabiz.com</td>\n",
       "      <td>thiru@fbtech.in</td>\n",
       "      <td>rital@vsnl.com</td>\n",
       "      <td>rc.karnick@sailrsp.co.in</td>\n",
       "      <td>info@indousabiz.com</td>\n",
       "      <td>nagappan@vsn.com</td>\n",
       "      <td>thiru@fbtech.in</td>\n",
       "      <td>nagappan@vsn.com</td>\n",
       "      <td>nagappan@vsn.com</td>\n",
       "    </tr>\n",
       "  </tbody>\n",
       "</table>\n",
       "</div>"
      ],
      "text/plain": [
       "                                          0  \\\n",
       "Date  Sat, 04 Jun 2022 00:00:44 -0700 (PDT)   \n",
       "To                     sakthi.gri@gmail.com   \n",
       "\n",
       "                                          0  \\\n",
       "Date  Sat, 04 Jun 2022 01:29:13 -0700 (PDT)   \n",
       "To                      info@indousabiz.com   \n",
       "\n",
       "                                          0  \\\n",
       "Date  Sat, 04 Jun 2022 23:06:17 -0700 (PDT)   \n",
       "To                          thiru@fbtech.in   \n",
       "\n",
       "                                          0  \\\n",
       "Date  Sat, 04 Jun 2022 23:42:36 -0700 (PDT)   \n",
       "To                           rital@vsnl.com   \n",
       "\n",
       "                                          0  \\\n",
       "Date  Sun, 05 Jun 2022 00:53:33 -0700 (PDT)   \n",
       "To                 rc.karnick@sailrsp.co.in   \n",
       "\n",
       "                                          0  \\\n",
       "Date  Sun, 05 Jun 2022 01:26:08 -0700 (PDT)   \n",
       "To                      info@indousabiz.com   \n",
       "\n",
       "                                          0  \\\n",
       "Date  Sun, 05 Jun 2022 02:58:56 -0700 (PDT)   \n",
       "To                         nagappan@vsn.com   \n",
       "\n",
       "                                          0  \\\n",
       "Date  Mon, 06 Jun 2022 01:01:05 -0700 (PDT)   \n",
       "To                          thiru@fbtech.in   \n",
       "\n",
       "                                          0  \\\n",
       "Date  Mon, 06 Jun 2022 01:57:18 -0700 (PDT)   \n",
       "To                         nagappan@vsn.com   \n",
       "\n",
       "                                          0  \n",
       "Date  Tue, 07 Jun 2022 00:47:27 -0700 (PDT)  \n",
       "To                         nagappan@vsn.com  "
      ]
     },
     "execution_count": 43,
     "metadata": {},
     "output_type": "execute_result"
    }
   ],
   "source": [
    "email_df.tail(10).T"
   ]
  },
  {
   "cell_type": "code",
   "execution_count": 44,
   "id": "b2c43979",
   "metadata": {},
   "outputs": [
    {
     "name": "stdout",
     "output_type": "stream",
     "text": [
      "Rows 279 Columns 2\n"
     ]
    }
   ],
   "source": [
    "print('Rows %d Columns %d' % (email_df.shape[0], email_df.shape[1]))"
   ]
  },
  {
   "cell_type": "code",
   "execution_count": 45,
   "id": "551e44a5",
   "metadata": {},
   "outputs": [],
   "source": [
    "output_file_name =  'error/bounced-csi-member-email IDs-' + str(datetime.now().strftime('%Y_%m_%d_%H_%M_%S')) + '.csv'\n",
    "email_df.to_csv(output_file_name, index = False)"
   ]
  },
  {
   "cell_type": "code",
   "execution_count": 46,
   "id": "8adfd5c3",
   "metadata": {},
   "outputs": [
    {
     "data": {
      "text/plain": [
       "'D:\\\\CSI\\\\Members'"
      ]
     },
     "execution_count": 46,
     "metadata": {},
     "output_type": "execute_result"
    }
   ],
   "source": [
    "import os; os.getcwd()"
   ]
  },
  {
   "cell_type": "code",
   "execution_count": 47,
   "id": "61c05eb2",
   "metadata": {},
   "outputs": [
    {
     "name": "stdout",
     "output_type": "stream",
     "text": [
      "File error/bounced-csi-member-email IDs-2022_06_11_07_32_46.csv has shape (279, 2)\n"
     ]
    }
   ],
   "source": [
    "inp_file = 'error/bounced-csi-member-email IDs-2022_06_11_07_32_46.csv'\n",
    "dfr      = pd.read_csv(inp_file)\n",
    "print('File {} has shape {}'.format(inp_file, dfr.shape))"
   ]
  },
  {
   "cell_type": "code",
   "execution_count": 48,
   "id": "da5b256d",
   "metadata": {},
   "outputs": [
    {
     "name": "stdout",
     "output_type": "stream",
     "text": [
      "File D:\\CSI\\Members\\Data\\CSI_CC_Members_HQ.csv has shape (964, 20)\n"
     ]
    }
   ],
   "source": [
    "inp_file1    =  r'D:\\CSI\\Members\\Data\\CSI_CC_Members_HQ.csv'\n",
    "dfi2         = pd.read_csv(inp_file1)\n",
    "print('File {} has shape {}'.format(inp_file1, dfi2.shape))\n"
   ]
  },
  {
   "cell_type": "code",
   "execution_count": 49,
   "id": "82087ea4",
   "metadata": {},
   "outputs": [
    {
     "data": {
      "text/plain": [
       "Index(['MemberCode', 'First Name', 'Middle Name', 'Last Name', 'FullName',\n",
       "       'EffectiveDate', 'Street1', 'street2', 'CityName', 'ChapterName',\n",
       "       'PinCodes', 'AreaName', 'State', 'Regions', 'emailAddress',\n",
       "       'secondary email-id', 'ContactDetails', 'Unnamed: 17', 'Unnamed: 18',\n",
       "       'Unnamed: 19'],\n",
       "      dtype='object')"
      ]
     },
     "execution_count": 49,
     "metadata": {},
     "output_type": "execute_result"
    }
   ],
   "source": [
    "dfi2.columns"
   ]
  },
  {
   "cell_type": "code",
   "execution_count": 50,
   "id": "55b5e3a6",
   "metadata": {},
   "outputs": [
    {
     "data": {
      "text/plain": [
       "Index(['Date', 'To'], dtype='object')"
      ]
     },
     "execution_count": 50,
     "metadata": {},
     "output_type": "execute_result"
    }
   ],
   "source": [
    "dfr.columns"
   ]
  },
  {
   "cell_type": "code",
   "execution_count": 51,
   "id": "02d0bf3c",
   "metadata": {},
   "outputs": [],
   "source": [
    "EML   =  dfr['To'].str.lower().str.strip()\n"
   ]
  },
  {
   "cell_type": "code",
   "execution_count": 52,
   "id": "f7c3d908",
   "metadata": {},
   "outputs": [
    {
     "data": {
      "text/plain": [
       "0    svraaman_1954@yahoo.co.in\n",
       "1       stejasvi@satyam.net.in\n",
       "2        arm@sancm.csir.res.in\n",
       "3             murugan.k@ge.com\n",
       "4          balipara@dataone.in\n",
       "5           pvhs@satyam.net.in\n",
       "6        psarathi@mailcity.com\n",
       "7        vijisbi@satyam.net.in\n",
       "8          amln@rediffmail.com\n",
       "9        rv.cmp@dcochennai.com\n",
       "Name: To, dtype: object"
      ]
     },
     "execution_count": 52,
     "metadata": {},
     "output_type": "execute_result"
    }
   ],
   "source": [
    "EML[:10] "
   ]
  },
  {
   "cell_type": "code",
   "execution_count": 53,
   "id": "bffb3806",
   "metadata": {},
   "outputs": [],
   "source": [
    "list_1_df    =   pd.DataFrame({'Email ID': EML})\n",
    "bool_series1 =   list_1_df[\"Email ID\"].duplicated(keep = 'first') "
   ]
  },
  {
   "cell_type": "code",
   "execution_count": 54,
   "id": "986d6987",
   "metadata": {},
   "outputs": [],
   "source": [
    "# passing NOT of bool series to see unique values only \n",
    "no_dup_list_1_dfr              = dfr[~bool_series1] "
   ]
  },
  {
   "cell_type": "code",
   "execution_count": 55,
   "id": "30eff723",
   "metadata": {},
   "outputs": [
    {
     "data": {
      "text/plain": [
       "Index(['Date', 'Email ID'], dtype='object')"
      ]
     },
     "execution_count": 55,
     "metadata": {},
     "output_type": "execute_result"
    }
   ],
   "source": [
    "no_dup_list_1_dfr.columns  =  ['Date', 'Email ID']\n",
    "no_dup_list_1_dfr.columns"
   ]
  },
  {
   "cell_type": "code",
   "execution_count": 56,
   "id": "a2f970cc",
   "metadata": {},
   "outputs": [
    {
     "name": "stdout",
     "output_type": "stream",
     "text": [
      "dfnd (181, 2)\n"
     ]
    }
   ],
   "source": [
    "dfnd = no_dup_list_1_dfr.dropna()\n",
    "print('dfnd {}'.format(dfnd.shape))"
   ]
  },
  {
   "cell_type": "code",
   "execution_count": null,
   "id": "45ffe617",
   "metadata": {},
   "outputs": [],
   "source": []
  },
  {
   "cell_type": "code",
   "execution_count": 57,
   "id": "088d67d3",
   "metadata": {},
   "outputs": [
    {
     "name": "stdout",
     "output_type": "stream",
     "text": [
      "I0000786\n"
     ]
    },
    {
     "data": {
      "text/plain": [
       "'I0000786'"
      ]
     },
     "execution_count": 57,
     "metadata": {},
     "output_type": "execute_result"
    }
   ],
   "source": [
    "get_memberid(dfi2, 'stejasvi@satyam.net.in')"
   ]
  },
  {
   "cell_type": "code",
   "execution_count": 60,
   "id": "cd99aaff",
   "metadata": {},
   "outputs": [],
   "source": [
    "Slno_list =   [i+1 for i in range(181)]\n",
    "err_df    =   pd.DataFrame({'Sno' : Slno_list, 'Email ID' : Member_List})"
   ]
  },
  {
   "cell_type": "code",
   "execution_count": 61,
   "id": "9d2d2ad3",
   "metadata": {},
   "outputs": [
    {
     "name": "stdout",
     "output_type": "stream",
     "text": [
      "\n",
      " i = 0 Email svraaman_1954@yahoo.co.in\n",
      "I0007079\n",
      "\n",
      " i = 1 Email stejasvi@satyam.net.in\n",
      "I0000786\n",
      "\n",
      " i = 2 Email arm@sancm.csir.res.in\n",
      "I0018093\n",
      "\n",
      " i = 3 Email murugan.k@ge.com\n",
      "I0015489\n",
      "\n",
      " i = 4 Email balipara@dataone.in\n",
      "I0002601"
     ]
    },
    {
     "name": "stderr",
     "output_type": "stream",
     "text": [
      "<ipython-input-61-2b22c65c36d2>:8: SettingWithCopyWarning: \n",
      "A value is trying to be set on a copy of a slice from a DataFrame\n",
      "\n",
      "See the caveats in the documentation: https://pandas.pydata.org/pandas-docs/stable/user_guide/indexing.html#returning-a-view-versus-a-copy\n",
      "  err_df['Member ID'][i] =  mid\n"
     ]
    },
    {
     "name": "stdout",
     "output_type": "stream",
     "text": [
      "\n",
      "\n",
      " i = 5 Email pvhs@satyam.net.in\n",
      "I0018254\n",
      "\n",
      " i = 6 Email psarathi@mailcity.com\n",
      "I0001838\n",
      "\n",
      " i = 7 Email vijisbi@satyam.net.in\n",
      "I0007436\n",
      "\n",
      " i = 8 Email amln@rediffmail.com\n",
      "I0008922\n",
      "\n",
      " i = 9 Email rv.cmp@dcochennai.com\n",
      "I0005278\n",
      "\n",
      " i = 10 Email seshadri1101@yahoo.com\n",
      "I0018492\n",
      "\n",
      " i = 11 Email venkat_gde@yahoo.com\n",
      "I0019068\n",
      "\n",
      " i = 12 Email mani8485@yahoo.com\n",
      "I0028364\n",
      "\n",
      " i = 13 Email k_kathirvel@yahoo.com\n",
      "I0028551\n",
      "\n",
      " i = 14 Email m.s.raja@sify.com\n",
      "I0008356\n",
      "\n",
      " i = 15 Email amsundrs@vsnl.com\n",
      "I0006631\n",
      "\n",
      " i = 16 Email sharmavp@nda.vsnl.net.in\n",
      "I0002468\n",
      "\n",
      " i = 17 Email chandramouli24@vsnl.com\n",
      "I0000922\n",
      "\n",
      " i = 18 Email kamala@iitm.ernet.in\n",
      "I0007620\n",
      "\n",
      " i = 19 Email marthg@eth.net\n",
      "I0012513\n",
      "\n",
      " i = 20 Email phanindra.chowdary@sisl.co.in\n",
      "I0915289\n",
      "\n",
      " i = 21 Email sivasubramaniam@vsnl.com\n",
      "I0007365\n",
      "\n",
      " i = 22 Email rangams@hotmail.com\n",
      "I0033198\n",
      "\n",
      " i = 23 Email aucse@satyam.net.in\n",
      "I0033745\n",
      "\n",
      " i = 24 Email kks@sundaraminfotech.in\n",
      "I0033887\n",
      "\n",
      " i = 25 Email krishkal@ieee.org\n",
      "I0000077\n",
      "\n",
      " i = 26 Email rams@sercm.csir.res.in\n",
      "I0001624\n",
      "\n",
      " i = 27 Email natarajan_parthasarathy@rediffmail.com\n",
      "I0003530\n",
      "\n",
      " i = 28 Email sriniven24@yahoo.co.in\n",
      "I0004946\n",
      "\n",
      " i = 29 Email krlakshmi@vsnl.net\n",
      "I0006133\n",
      "\n",
      " i = 30 Email shajissc@yahoo.com\n",
      "I0007172\n",
      "\n",
      " i = 31 Email bhaskar00@yahoo.com\n",
      "I0007646\n",
      "\n",
      " i = 32 Email kannan.ganesan@fisglobal.com\n",
      "\n",
      " i = 33 Email thirugnana.sambandam@citicorp.com\n",
      "I0052003\n",
      "\n",
      " i = 34 Email kguna@sercm.csir.res.in\n",
      "I0915494\n",
      "\n",
      " i = 35 Email easwara@unimad.ernet.in\n",
      "I0054307\n",
      "\n",
      " i = 36 Email aghilaa@yahoo.com\n",
      "I0055160\n",
      "\n",
      " i = 37 Email rameshbabugt@in.ibm.com\n",
      "I0056409\n",
      "\n",
      " i = 38 Email dctomar@yahoo.com\n",
      "I0059315\n",
      "\n",
      " i = 39 Email lok@maars.soft.com\n",
      "I0059842\n",
      "\n",
      " i = 40 Email ksrao18@yahoo.co.in\n",
      "I0070234\n",
      "\n",
      " i = 41 Email dr.sai@consim.com\n",
      "I0067069\n",
      "\n",
      " i = 42 Email srinig@vsnl.com\n",
      "I0012454\n",
      "\n",
      " i = 43 Email gdmtidco@md3.vsnl.net.in\n",
      "I0004293\n",
      "\n",
      " i = 44 Email uninet@md2.vsnl.net.in\n",
      "I0017197\n",
      "\n",
      " i = 45 Email abraham@sihomes.com\n",
      "\n",
      " i = 46 Email apparaot@vsnl.com\n",
      "I0031476\n",
      "\n",
      " i = 47 Email shunmugamk@sify.com\n",
      "I0018950\n",
      "\n",
      " i = 48 Email setc@vsnl.com\n",
      "I0017196\n",
      "\n",
      " i = 49 Email avmvkjk@eth.net\n",
      "I0010054\n",
      "\n",
      " i = 50 Email pnpn@sify.com\n",
      "I0056991\n",
      "\n",
      " i = 51 Email cthiru@lyws.com\n",
      "I0062998\n",
      "\n",
      " i = 52 Email mnsanjayakumar@gmail.com\n",
      "I0063458\n",
      "\n",
      " i = 53 Email arulsteel@yahoo.com\n",
      "I0070721\n",
      "\n",
      " i = 54 Email jagannathan22@rediffmail.com\n",
      "I0070875\n",
      "\n",
      " i = 55 Email jeevan.s@usa.net\n",
      "I0071445\n",
      "\n",
      " i = 56 Email ganesan_ns@yahoo.com\n",
      "I0072136\n",
      "\n",
      " i = 57 Email drravir@yahoo.com\n",
      "I0076965\n",
      "\n",
      " i = 58 Email pirathebad@rediffmail.com\n",
      "I0079231\n",
      "\n",
      " i = 59 Email subbu@navoinfotech.com\n",
      "I0079508\n",
      "\n",
      " i = 60 Email drpesanky@hotmail.com\n",
      "I0080703\n",
      "\n",
      " i = 61 Email iisc@rediffmail.com\n",
      "I0080043\n",
      "\n",
      " i = 62 Email sank50@vsnl.net\n",
      "I0082047\n",
      "\n",
      " i = 63 Email veeer19@hotmail.com\n",
      "I0082383\n",
      "\n",
      " i = 64 Email krsandy@email.com\n",
      "I0082758\n",
      "\n",
      " i = 65 Email parvathavarthini@mailcity.com\n",
      "I0085739\n",
      "\n",
      " i = 66 Email nsn17@msn.com\n",
      "I0087956\n",
      "\n",
      " i = 67 Email selva_vasan@yahoo.com\n",
      "I0092755\n",
      "\n",
      " i = 68 Email jkarthika@ssnsomca.ac.in\n",
      "I0093643\n",
      "\n",
      " i = 69 Email mohanas@ssnie.ac.in\n",
      "I0093644\n",
      "\n",
      " i = 70 Email ilayaraja_r@yahoo.com\n",
      "I0093646\n",
      "\n",
      " i = 71 Email b_bharathi@yahoo.com\n",
      "I0093648\n",
      "\n",
      " i = 72 Email rangasamykumar@rediffmail.com\n",
      "I0093649\n",
      "\n",
      " i = 73 Email madras@go.com\n",
      "I0097905\n",
      "\n",
      " i = 74 Email po@alagappavarsity.org\n",
      "I0100185\n",
      "\n",
      " i = 75 Email ulagam@rediffmail.com\n",
      "I0099601\n",
      "\n",
      " i = 76 Email narasimhanpandian@yahoo.com\n",
      "I0101243\n",
      "\n",
      " i = 77 Email rkollu@vsnl.com\n",
      "I0060572\n",
      "\n",
      " i = 78 Email rajasekharank@yahoo.com\n",
      "I0089291\n",
      "\n",
      " i = 79 Email maadhu@vsnl.com\n",
      "I0064069\n",
      "\n",
      " i = 80 Email vasanthiru@sify.com\n",
      "I0006896\n",
      "\n",
      " i = 81 Email rajarajeswari_s@hotmail.com\n",
      "I0102567\n",
      "\n",
      " i = 82 Email sufelvin@yahoomail.com\n",
      "I0113152\n",
      "\n",
      " i = 83 Email kindu0882@yahoo.com\n",
      "I0113157\n",
      "\n",
      " i = 84 Email acusedk@yahoo.com\n",
      "I0113171\n",
      "\n",
      " i = 85 Email d_v_sekhar@yahoo.co.in\n",
      "I0113175\n",
      "\n",
      " i = 86 Email spal_subaa@yahoo.co.in\n",
      "I0113186\n",
      "\n",
      " i = 87 Email rtramsuba@yahoo.com\n",
      "I0113194\n",
      "\n",
      " i = 88 Email vscseau@yahoo.co.in\n",
      "I0113224\n",
      "\n",
      " i = 89 Email kskaucse@yahoo.co.in\n",
      "I0113242\n",
      "\n",
      " i = 90 Email akkdai@yahoo.com\n",
      "I0113249\n",
      "\n",
      " i = 91 Email nrk_trichy@yahoo.co.in\n",
      "I0113262\n",
      "\n",
      " i = 92 Email srbkiruba@yahoo.com\n",
      "I0113266\n",
      "\n",
      " i = 93 Email saravanan_p007@yahoo.com\n",
      "I0113257\n",
      "\n",
      " i = 94 Email murugan1_mpt@yahoo.co.in\n",
      "I0113269\n",
      "\n",
      " i = 95 Email govind_autcse@yahoo.com\n",
      "I0113270\n",
      "\n",
      " i = 96 Email murugesh97@rediffmail.com\n",
      "I0113271\n",
      "\n",
      " i = 97 Email abirami_sv2000@yahoo.co.in\n",
      "I0113253\n",
      "\n",
      " i = 98 Email meetrramesh@rediffmail.com\n",
      "I0113277\n",
      "\n",
      " i = 99 Email rsubanau@yahoo.co.in\n",
      "I0113279\n",
      "\n",
      " i = 100 Email barath777@yahoo.com\n",
      "I0115850\n",
      "\n",
      " i = 101 Email drvkannam62@yahoo.com\n",
      "I0118979\n",
      "\n",
      " i = 102 Email margret_cse@karunya.edu\n",
      "I0119295\n",
      "\n",
      " i = 103 Email annadurai@sercm.csir.res.in\n",
      "I0125520\n",
      "\n",
      " i = 104 Email prkannan@msn.com\n",
      "I0127168\n",
      "\n",
      " i = 105 Email rvittalraj@vsnl.com\n",
      "I0090879\n",
      "\n",
      " i = 106 Email digiterati99@vsnl.com\n",
      "I0072151\n",
      "\n",
      " i = 107 Email deraka@md3.vsnl.net.in\n",
      "I0081351\n",
      "\n",
      " i = 108 Email tiku@tn.nic.in\n",
      "I0094705\n",
      "\n",
      " i = 109 Email niwas@vsnl.com\n",
      "I0080705\n",
      "\n",
      " i = 110 Email murali_v@chennai.tcs.co.in\n",
      "I0074978\n",
      "\n",
      " i = 111 Email tramanan@chennai.tcs.co.in\n",
      "I0078127\n",
      "\n",
      " i = 112 Email apparao@vsnl.com\n",
      "I0112776\n",
      "\n",
      " i = 113 Email vmaniayyar@yahoo.com\n",
      "I0133723\n",
      "\n",
      " i = 114 Email kkumar_moorthy@yahoo.com\n",
      "I0136437\n",
      "\n",
      " i = 115 Email ramana@amitysoft.com\n",
      "I0144451\n",
      "\n",
      " i = 116 Email mohan.v@polaris.co.in\n",
      "I0145744\n",
      "\n",
      " i = 117 Email gokul_krish@yahoo.co.in\n",
      "I0145748\n",
      "\n",
      " i = 118 Email bharathylydia@yahoo.com\n",
      "I0145749\n",
      "\n",
      " i = 119 Email rambhadras@yahoo.com\n",
      "I0145751\n",
      "\n",
      " i = 120 Email sivanr@ieee.org\n",
      "I0146570\n",
      "\n",
      " i = 121 Email chitsbabu@yahoo.com\n",
      "I0147077\n",
      "\n",
      " i = 122 Email sripriya_79@yahoo.com\n",
      "I0147079\n",
      "\n",
      " i = 123 Email ushaganesan79@yahoo.co.in\n",
      "I0147084\n",
      "\n",
      " i = 124 Email ranirajan100@rediffmail.com\n",
      "I0147085\n",
      "\n",
      " i = 125 Email rajlaxmi_rv@yahoo.co.in\n",
      "I0147091\n",
      "\n",
      " i = 126 Email kavibm_balaji@yahoo.co.in\n",
      "I0147092\n",
      "\n",
      " i = 127 Email b_senthil2002@yahoo.co.in\n",
      "I0147094\n",
      "\n",
      " i = 128 Email meenakshi_rm@yahoo.com\n",
      "I0147402\n",
      "\n",
      " i = 129 Email rajeshwarkj@hotmail.com\n",
      "I0151261\n",
      "\n",
      " i = 130 Email chins_dhaya@rediffmail.com\n",
      "I0155636\n",
      "\n",
      " i = 131 Email rrajamanickam@inautix.co.in\n",
      "I0157263\n",
      "\n",
      " i = 132 Email seethuvj@yahoo.com\n",
      "I0163150\n",
      "\n",
      " i = 133 Email csiedums@vsnl.com\n",
      "I0128404\n",
      "\n",
      " i = 134 Email agst@sify.com\n",
      "I0113198\n",
      "\n",
      " i = 135 Email connect2sai@hathway.com\n",
      "I0145750\n",
      "\n",
      " i = 136 Email ramayyas@vsnl.com\n",
      "I0134687\n",
      "\n",
      " i = 137 Email anitha_julian@yahoo.com\n",
      "I0168502\n",
      "\n",
      " i = 138 Email ktvasan@yahoo.com\n",
      "I0170982\n",
      "\n",
      " i = 139 Email ssenthilkumaran@lycos.com\n",
      "I0173313\n",
      "\n",
      " i = 140 Email sankarammk@yahoo.com\n",
      "I0173961\n",
      "\n",
      " i = 141 Email jayabrabu@yahoo.co.in\n",
      "I0174041\n",
      "\n",
      " i = 142 Email retminraj@rediffmail.com\n",
      "I0174674\n",
      "\n",
      " i = 143 Email dicya.skrec@gmail.com\n",
      "I0174770\n",
      "\n",
      " i = 144 Email jaibv2005@yahoo.com\n",
      "I0174987\n",
      "\n",
      " i = 145 Email subhash@springboard.net.in\n",
      "I0175273\n",
      "\n",
      " i = 146 Email subbarayan_srmuniv@yahoo.co.in\n",
      "I0175453\n",
      "\n",
      " i = 147 Email arajasekar@yahoo.com\n",
      "I0175470\n",
      "\n",
      " i = 148 Email ramy49@vsnl.com\n",
      "I0173472\n",
      "\n",
      " i = 149 Email mohanta62007@rdiff.com\n",
      "I0170983\n",
      "\n",
      " i = 150 Email deivamani@cs.annauniv.edu\n",
      "I1054265\n",
      "\n",
      " i = 151 Email sam.hema@rediffmail.com\n",
      "I1058824\n",
      "\n",
      " i = 152 Email sangeerani_devi@yahoo.co.in\n",
      "I1058825\n",
      "\n",
      " i = 153 Email thenv_it@yahoo.co.in\n",
      "I1058833\n",
      "\n",
      " i = 154 Email nashok81@yahoo.com\n",
      "I1060078\n",
      "\n",
      " i = 155 Email anushprey@gmail.com\n",
      "I1060087\n",
      "\n",
      " i = 156 Email rkolintavadi@hotmail.com\n",
      "I1077660\n",
      "\n",
      " i = 157 Email umasuji_mail@yahoo.com\n",
      "I1121889\n",
      "\n",
      " i = 158 Email m_p_kumoorkarthi@yahoo.co.in\n",
      "I1058835\n",
      "\n",
      " i = 159 Email arjun@mowares.com\n",
      "I1153002\n",
      "\n",
      " i = 160 Email raguraman@hotmail.com\n",
      "I0003811\n",
      "\n",
      " i = 161 Email savarinarayan@yahoo.co.in\n",
      "I0003025\n",
      "\n",
      " i = 162 Email dsvjaudeen@gmail.com\n",
      "I0147082\n",
      "\n",
      " i = 163 Email sunil3mano@gmail.com\n",
      "I1058820\n",
      "\n",
      " i = 164 Email saravanme@rediffmail.com\n",
      "I0155592\n",
      "\n",
      " i = 165 Email rajkumar@seed-india.in\n",
      "I1500144\n",
      "\n",
      " i = 166 Email godfreywinster@ieee.org\n",
      "I1500248\n",
      "\n",
      " i = 167 Email rc.karnick@sailrsp.co.in\n",
      "I0005562\n",
      "\n",
      " i = 168 Email thiruani@yahoo.com\n",
      "I1501600\n",
      "\n",
      " i = 169 Email rengu_ranjan@yahoo.com\n",
      "I1502025\n",
      "\n",
      " i = 170 Email c_granam@yahoo.com\n",
      "\n",
      " i = 171 Email nmv_94@yahoomail.com\n",
      "I1504189\n",
      "\n",
      " i = 172 Email rital@vsnl.com\n",
      "I0002504\n",
      "\n",
      " i = 173 Email info@indousabiz.com\n",
      "I1500493\n",
      "\n",
      " i = 174 Email murugabalili26@rediffmail.com\n",
      "I1504611\n",
      "\n",
      " i = 175 Email smuthmylagam@gmail.com\n",
      "I1504948\n",
      "\n",
      " i = 176 Email hipradeepsahoo@yahoo.com\n",
      "2010000898\n",
      "\n",
      " i = 177 Email baski@annauniv.edu\n",
      "I1505407\n",
      "\n",
      " i = 178 Email thiru@fbtech.in\n",
      "I1504001\n",
      "\n",
      " i = 179 Email sakthi.gri@gmail.com\n",
      "2010000599\n",
      "\n",
      " i = 180 Email nagappan@vsn.com\n",
      "I1505085\n",
      "\n",
      "Number of email ids 181 columns 3\n"
     ]
    }
   ],
   "source": [
    "err_df['Member ID'] = ''\n",
    "### ###     \n",
    "for i in range(len(Member_List)):\n",
    "    emailid                          =  Member_List[i]\n",
    "    print('\\n i = %d Email %s'%(i, emailid))\n",
    "    try: \n",
    "        mid                    =  get_memberid(dfi2 , emailid)\n",
    "        err_df['Member ID'][i] =  mid\n",
    "    except:\n",
    "        mid  =  ''\n",
    "### ###         \n",
    "print('\\nNumber of email ids %d columns %d' % (err_df.shape[0], err_df.shape[1]))"
   ]
  },
  {
   "cell_type": "code",
   "execution_count": null,
   "id": "16d71f44",
   "metadata": {},
   "outputs": [],
   "source": []
  },
  {
   "cell_type": "code",
   "execution_count": 62,
   "id": "89191398",
   "metadata": {},
   "outputs": [
    {
     "name": "stdout",
     "output_type": "stream",
     "text": [
      "\n",
      "Number of duplicated email ids 98\n"
     ]
    }
   ],
   "source": [
    "dup_list_1_df = dfr[bool_series1]\n",
    "print('\\nNumber of duplicated email ids %d' %dup_list_1_df.shape[0])"
   ]
  },
  {
   "cell_type": "code",
   "execution_count": 63,
   "id": "b6e4567d",
   "metadata": {},
   "outputs": [],
   "source": [
    "output_file_name =  'error/Bounced-CSI-member-email IDs-' + str(datetime.now().strftime('%Y_%m_%d_%H_%M_%S')) + '.csv'\n",
    "err_df.to_csv(output_file_name, index = False)\n"
   ]
  },
  {
   "cell_type": "code",
   "execution_count": 64,
   "id": "10cb1b62",
   "metadata": {},
   "outputs": [
    {
     "data": {
      "text/plain": [
       "'error/Bounced-CSI-member-email IDs-2022_06_12_06_17_48.csv'"
      ]
     },
     "execution_count": 64,
     "metadata": {},
     "output_type": "execute_result"
    }
   ],
   "source": [
    "output_file_name "
   ]
  }
 ],
 "metadata": {
  "kernelspec": {
   "display_name": "Python 3",
   "language": "python",
   "name": "python3"
  },
  "language_info": {
   "codemirror_mode": {
    "name": "ipython",
    "version": 3
   },
   "file_extension": ".py",
   "mimetype": "text/x-python",
   "name": "python",
   "nbconvert_exporter": "python",
   "pygments_lexer": "ipython3",
   "version": "3.8.8"
  }
 },
 "nbformat": 4,
 "nbformat_minor": 5
}
