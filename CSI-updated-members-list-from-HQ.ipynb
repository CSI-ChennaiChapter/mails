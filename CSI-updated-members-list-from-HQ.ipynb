{
 "cells": [
  {
   "cell_type": "code",
   "execution_count": 17,
   "id": "c2677916",
   "metadata": {},
   "outputs": [],
   "source": [
    "folder    = r'F:\\CSI\\2022-23\\Members\\Data'\n",
    "file_name = r'F:\\CSI\\2022-23\\Members\\Data\\Chennai-CSI-MEMBERS-20220628.xlsx'"
   ]
  },
  {
   "cell_type": "code",
   "execution_count": 18,
   "id": "a4ea61b1",
   "metadata": {},
   "outputs": [],
   "source": [
    "import  os\n",
    "os.chdir(folder)"
   ]
  },
  {
   "cell_type": "code",
   "execution_count": 19,
   "id": "9fe4ef29",
   "metadata": {},
   "outputs": [],
   "source": [
    "import   pandas     as      pd\n",
    "import   numpy      as      np\n",
    "import   time\n",
    "from     datetime   import  datetime\n",
    "from     datetime   import  timedelta"
   ]
  },
  {
   "cell_type": "code",
   "execution_count": null,
   "id": "5228d7a4",
   "metadata": {},
   "outputs": [],
   "source": []
  },
  {
   "cell_type": "code",
   "execution_count": null,
   "id": "bfb86439",
   "metadata": {},
   "outputs": [],
   "source": []
  },
  {
   "cell_type": "code",
   "execution_count": 20,
   "id": "2c1028b8",
   "metadata": {},
   "outputs": [
    {
     "name": "stdout",
     "output_type": "stream",
     "text": [
      "\n",
      "Dimensions of unchanged data (598, 11)\n"
     ]
    }
   ],
   "source": [
    "df1      =    pd.read_excel(file_name, sheet_name = 'life')\n",
    "df2      =    pd.read_excel(file_name, sheet_name = 'updated life')\n",
    "\n",
    "print(\"\\nDimensions of unchanged data {}\".format(df1.shape))"
   ]
  },
  {
   "cell_type": "code",
   "execution_count": 21,
   "id": "b4504731",
   "metadata": {},
   "outputs": [
    {
     "name": "stdout",
     "output_type": "stream",
     "text": [
      "\n",
      "Dimensions of Changed data (219, 11)\n"
     ]
    }
   ],
   "source": [
    "print(\"\\nDimensions of Changed data {}\".format(df2.shape))"
   ]
  },
  {
   "cell_type": "code",
   "execution_count": 22,
   "id": "20fd6670",
   "metadata": {},
   "outputs": [
    {
     "name": "stdout",
     "output_type": "stream",
     "text": [
      "\n",
      "Dimensions of Bounced Email data (178, 7)\n"
     ]
    }
   ],
   "source": [
    "df3      =    pd.read_csv('Bounced Emails 12th June 22 - Sheet1.csv')\n",
    "print(\"\\nDimensions of Bounced Email data {}\".format(df3.shape))"
   ]
  },
  {
   "cell_type": "code",
   "execution_count": 23,
   "id": "003b1183",
   "metadata": {},
   "outputs": [
    {
     "data": {
      "text/plain": [
       "Index(['MemberCode', 'First Name', 'Middle Name', 'Last Name', 'FullName',\n",
       "       'CityName', 'ChapterName', 'State', 'Regions', 'emailAddress',\n",
       "       'ContactDetails'],\n",
       "      dtype='object')"
      ]
     },
     "execution_count": 23,
     "metadata": {},
     "output_type": "execute_result"
    }
   ],
   "source": [
    "df1.columns"
   ]
  },
  {
   "cell_type": "code",
   "execution_count": 24,
   "id": "18bd94d8",
   "metadata": {},
   "outputs": [
    {
     "data": {
      "text/plain": [
       "Index(['MemberCode', 'FullName', 'emailAddress', 'ContactDetails', 'Address',\n",
       "       'CityName', 'PinCodes'],\n",
       "      dtype='object')"
      ]
     },
     "execution_count": 24,
     "metadata": {},
     "output_type": "execute_result"
    }
   ],
   "source": [
    "df3.columns"
   ]
  },
  {
   "cell_type": "code",
   "execution_count": 25,
   "id": "a6853c19",
   "metadata": {},
   "outputs": [],
   "source": [
    "Bounced_members   = df3['MemberCode']"
   ]
  },
  {
   "cell_type": "code",
   "execution_count": 26,
   "id": "2676ccdd",
   "metadata": {},
   "outputs": [],
   "source": [
    "nochange_df       =  df1[~df1['MemberCode'].isin(Bounced_members)]"
   ]
  },
  {
   "cell_type": "code",
   "execution_count": 27,
   "id": "e502725f",
   "metadata": {},
   "outputs": [
    {
     "name": "stdout",
     "output_type": "stream",
     "text": [
      "\n",
      "Dimensions of Valid No change Email data (444, 11)\n"
     ]
    }
   ],
   "source": [
    "print(\"\\nDimensions of Valid No change Email data {}\".format(nochange_df.shape))"
   ]
  },
  {
   "cell_type": "code",
   "execution_count": 28,
   "id": "74f77198",
   "metadata": {},
   "outputs": [
    {
     "data": {
      "text/plain": [
       "154"
      ]
     },
     "execution_count": 28,
     "metadata": {},
     "output_type": "execute_result"
    }
   ],
   "source": [
    "598 - 444"
   ]
  },
  {
   "cell_type": "code",
   "execution_count": 29,
   "id": "7d5bdb73",
   "metadata": {},
   "outputs": [
    {
     "data": {
      "text/plain": [
       "Index(['MemberCode', 'First Name', 'Middle Name', 'Last Name', 'FullName',\n",
       "       'CityName', 'ChapterName', 'State', 'Regions', 'emailAddress',\n",
       "       'ContactDetails'],\n",
       "      dtype='object')"
      ]
     },
     "execution_count": 29,
     "metadata": {},
     "output_type": "execute_result"
    }
   ],
   "source": [
    "df2.columns"
   ]
  },
  {
   "cell_type": "code",
   "execution_count": 30,
   "id": "e476ce0d",
   "metadata": {},
   "outputs": [],
   "source": [
    "total_members = pd.concat([nochange_df, df2], axis=0)"
   ]
  },
  {
   "cell_type": "code",
   "execution_count": 31,
   "id": "e0cb3e79",
   "metadata": {},
   "outputs": [
    {
     "data": {
      "text/plain": [
       "(663, 11)"
      ]
     },
     "execution_count": 31,
     "metadata": {},
     "output_type": "execute_result"
    }
   ],
   "source": [
    "total_members.shape"
   ]
  },
  {
   "cell_type": "code",
   "execution_count": 32,
   "id": "8d51397f",
   "metadata": {},
   "outputs": [],
   "source": [
    "output_file_name =  './../Output/csicc-members-data-' + str(datetime.now().strftime('%Y_%m_%d_%H_%M_%S')) + '.csv'\n",
    "total_members.to_csv(output_file_name, index = False)"
   ]
  }
 ],
 "metadata": {
  "kernelspec": {
   "display_name": "Python 3 (ipykernel)",
   "language": "python",
   "name": "python3"
  },
  "language_info": {
   "codemirror_mode": {
    "name": "ipython",
    "version": 3
   },
   "file_extension": ".py",
   "mimetype": "text/x-python",
   "name": "python",
   "nbconvert_exporter": "python",
   "pygments_lexer": "ipython3",
   "version": "3.9.12"
  }
 },
 "nbformat": 4,
 "nbformat_minor": 5
}
